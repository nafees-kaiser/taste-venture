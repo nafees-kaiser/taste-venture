{
 "cells": [
  {
   "cell_type": "code",
   "id": "initial_id",
   "metadata": {
    "collapsed": true,
    "ExecuteTime": {
     "end_time": "2024-06-27T06:30:24.311365Z",
     "start_time": "2024-06-27T06:29:51.392328Z"
    }
   },
   "source": [
    "import pandas as pd\n",
    "import numpy as np\n",
    "from matplotlib import pyplot as plt\n",
    "from sklearn.model_selection import train_test_split\n",
    "import fasttext\n",
    "import re"
   ],
   "outputs": [],
   "execution_count": 1
  },
  {
   "metadata": {
    "ExecuteTime": {
     "end_time": "2024-06-27T06:30:27.257702Z",
     "start_time": "2024-06-27T06:30:27.166611Z"
    }
   },
   "cell_type": "code",
   "source": [
    "fake = pd.read_csv('fake.csv')\n",
    "fake.shape"
   ],
   "id": "5fefbbba9083a3b0",
   "outputs": [
    {
     "data": {
      "text/plain": [
       "(1339, 2)"
      ]
     },
     "execution_count": 2,
     "metadata": {},
     "output_type": "execute_result"
    }
   ],
   "execution_count": 2
  },
  {
   "metadata": {
    "ExecuteTime": {
     "end_time": "2024-06-27T06:30:34.600692Z",
     "start_time": "2024-06-27T06:30:34.326089Z"
    }
   },
   "cell_type": "code",
   "source": [
    "non_fake = pd.read_csv('non-fake.csv')\n",
    "non_fake = non_fake.sample(n=2000,random_state=10)"
   ],
   "id": "2ee309e1a295b6b5",
   "outputs": [],
   "execution_count": 3
  },
  {
   "metadata": {
    "ExecuteTime": {
     "end_time": "2024-06-27T06:30:35.616487Z",
     "start_time": "2024-06-27T06:30:35.595387Z"
    }
   },
   "cell_type": "code",
   "source": [
    "dataset = pd.concat([fake,non_fake])\n",
    "dataset.sample(10)"
   ],
   "id": "13d9bc34753e5c9c",
   "outputs": [
    {
     "data": {
      "text/plain": [
       "                                                 Review  Label\n",
       "6038  সল্টগ্রিল বসুন্ধরা সিটি ...আমি চূড়ান্ত রকম হতা...      1\n",
       "3252  ধানমন্ডি 15/a নম্বর এ আলমাস বিল্ডিং এর 3 তলায় ...      1\n",
       "602   #The_MidtowN \\r\\n💥Combo pack 💥\\r\\n😍Offer Price...      0\n",
       "730   ফার্মেসীতে ENO না পাওয়ায় MAXPRO দিয়েই দিলাম...      0\n",
       "218   #positive... Review\\r\\nName: Tanu kitchen\\r\\np...      0\n",
       "1189  #২.৫_কেজি_ওজনের_পিজ্জা\\r\\n#প্রতি_কামড়ে_কামড়ে_ম...      0\n",
       "725   প্লেট ভর্তি খাবার মাত্র #১৩৯টাকায় আসলেই কি সম্...      0\n",
       "7645  ১০০টাকাতে দই ফুসকা আর ২০০টাকাতে ছিটা রুটি আর হ...      1\n",
       "3744  পিজ্জাটি আসলে 12 inch ছিলো। রাস্তায় দাড়ায় খাওয়...      1\n",
       "1334  #২_টাকায়_ডিপডিশপিজ্জা_খেলাম \\r\\nসদ্য চাকরি পাও...      0"
      ],
      "text/html": [
       "<div>\n",
       "<style scoped>\n",
       "    .dataframe tbody tr th:only-of-type {\n",
       "        vertical-align: middle;\n",
       "    }\n",
       "\n",
       "    .dataframe tbody tr th {\n",
       "        vertical-align: top;\n",
       "    }\n",
       "\n",
       "    .dataframe thead th {\n",
       "        text-align: right;\n",
       "    }\n",
       "</style>\n",
       "<table border=\"1\" class=\"dataframe\">\n",
       "  <thead>\n",
       "    <tr style=\"text-align: right;\">\n",
       "      <th></th>\n",
       "      <th>Review</th>\n",
       "      <th>Label</th>\n",
       "    </tr>\n",
       "  </thead>\n",
       "  <tbody>\n",
       "    <tr>\n",
       "      <th>6038</th>\n",
       "      <td>সল্টগ্রিল বসুন্ধরা সিটি ...আমি চূড়ান্ত রকম হতা...</td>\n",
       "      <td>1</td>\n",
       "    </tr>\n",
       "    <tr>\n",
       "      <th>3252</th>\n",
       "      <td>ধানমন্ডি 15/a নম্বর এ আলমাস বিল্ডিং এর 3 তলায় ...</td>\n",
       "      <td>1</td>\n",
       "    </tr>\n",
       "    <tr>\n",
       "      <th>602</th>\n",
       "      <td>#The_MidtowN \\r\\n💥Combo pack 💥\\r\\n😍Offer Price...</td>\n",
       "      <td>0</td>\n",
       "    </tr>\n",
       "    <tr>\n",
       "      <th>730</th>\n",
       "      <td>ফার্মেসীতে ENO না পাওয়ায় MAXPRO দিয়েই দিলাম...</td>\n",
       "      <td>0</td>\n",
       "    </tr>\n",
       "    <tr>\n",
       "      <th>218</th>\n",
       "      <td>#positive... Review\\r\\nName: Tanu kitchen\\r\\np...</td>\n",
       "      <td>0</td>\n",
       "    </tr>\n",
       "    <tr>\n",
       "      <th>1189</th>\n",
       "      <td>#২.৫_কেজি_ওজনের_পিজ্জা\\r\\n#প্রতি_কামড়ে_কামড়ে_ম...</td>\n",
       "      <td>0</td>\n",
       "    </tr>\n",
       "    <tr>\n",
       "      <th>725</th>\n",
       "      <td>প্লেট ভর্তি খাবার মাত্র #১৩৯টাকায় আসলেই কি সম্...</td>\n",
       "      <td>0</td>\n",
       "    </tr>\n",
       "    <tr>\n",
       "      <th>7645</th>\n",
       "      <td>১০০টাকাতে দই ফুসকা আর ২০০টাকাতে ছিটা রুটি আর হ...</td>\n",
       "      <td>1</td>\n",
       "    </tr>\n",
       "    <tr>\n",
       "      <th>3744</th>\n",
       "      <td>পিজ্জাটি আসলে 12 inch ছিলো। রাস্তায় দাড়ায় খাওয়...</td>\n",
       "      <td>1</td>\n",
       "    </tr>\n",
       "    <tr>\n",
       "      <th>1334</th>\n",
       "      <td>#২_টাকায়_ডিপডিশপিজ্জা_খেলাম \\r\\nসদ্য চাকরি পাও...</td>\n",
       "      <td>0</td>\n",
       "    </tr>\n",
       "  </tbody>\n",
       "</table>\n",
       "</div>"
      ]
     },
     "execution_count": 4,
     "metadata": {},
     "output_type": "execute_result"
    }
   ],
   "execution_count": 4
  },
  {
   "metadata": {
    "ExecuteTime": {
     "end_time": "2024-06-27T06:30:37.655528Z",
     "start_time": "2024-06-27T06:30:37.546568Z"
    }
   },
   "cell_type": "code",
   "source": "dataset.to_csv('bangla_food_review.csv',index=False)",
   "id": "d0e147fb85e5438a",
   "outputs": [],
   "execution_count": 5
  },
  {
   "metadata": {
    "ExecuteTime": {
     "end_time": "2024-06-27T06:30:40.092908Z",
     "start_time": "2024-06-27T06:30:39.962547Z"
    }
   },
   "cell_type": "code",
   "source": [
    "data = pd.read_csv('bangla_food_review.csv')\n",
    "data.sample(5)"
   ],
   "id": "ad8a6d2cd139f9f7",
   "outputs": [
    {
     "data": {
      "text/plain": [
       "                                                 Review  Label\n",
       "1502  কাবাব সমাচার বর্তমানে ঢাকাশহরে সবচেয়ে বেশি যেই...      1\n",
       "1150  ১০ পিস চিকেনের সাথে আনলিমিটেড বিরিয়ানি অফার......      0\n",
       "1656  #the_bitcoin_cafeকম বাজেটে bhalo khabar অথবা ট...      1\n",
       "2260  Fully লোডেড রিভিউ ...প্রতি মাসের ৫ তারিখ নান্ন...      1\n",
       "2418  কাল গেলাম Aangan এ murg.a.akbar  আর গুলাব জামু...      1"
      ],
      "text/html": [
       "<div>\n",
       "<style scoped>\n",
       "    .dataframe tbody tr th:only-of-type {\n",
       "        vertical-align: middle;\n",
       "    }\n",
       "\n",
       "    .dataframe tbody tr th {\n",
       "        vertical-align: top;\n",
       "    }\n",
       "\n",
       "    .dataframe thead th {\n",
       "        text-align: right;\n",
       "    }\n",
       "</style>\n",
       "<table border=\"1\" class=\"dataframe\">\n",
       "  <thead>\n",
       "    <tr style=\"text-align: right;\">\n",
       "      <th></th>\n",
       "      <th>Review</th>\n",
       "      <th>Label</th>\n",
       "    </tr>\n",
       "  </thead>\n",
       "  <tbody>\n",
       "    <tr>\n",
       "      <th>1502</th>\n",
       "      <td>কাবাব সমাচার বর্তমানে ঢাকাশহরে সবচেয়ে বেশি যেই...</td>\n",
       "      <td>1</td>\n",
       "    </tr>\n",
       "    <tr>\n",
       "      <th>1150</th>\n",
       "      <td>১০ পিস চিকেনের সাথে আনলিমিটেড বিরিয়ানি অফার......</td>\n",
       "      <td>0</td>\n",
       "    </tr>\n",
       "    <tr>\n",
       "      <th>1656</th>\n",
       "      <td>#the_bitcoin_cafeকম বাজেটে bhalo khabar অথবা ট...</td>\n",
       "      <td>1</td>\n",
       "    </tr>\n",
       "    <tr>\n",
       "      <th>2260</th>\n",
       "      <td>Fully লোডেড রিভিউ ...প্রতি মাসের ৫ তারিখ নান্ন...</td>\n",
       "      <td>1</td>\n",
       "    </tr>\n",
       "    <tr>\n",
       "      <th>2418</th>\n",
       "      <td>কাল গেলাম Aangan এ murg.a.akbar  আর গুলাব জামু...</td>\n",
       "      <td>1</td>\n",
       "    </tr>\n",
       "  </tbody>\n",
       "</table>\n",
       "</div>"
      ]
     },
     "execution_count": 6,
     "metadata": {},
     "output_type": "execute_result"
    }
   ],
   "execution_count": 6
  },
  {
   "metadata": {
    "ExecuteTime": {
     "end_time": "2024-06-27T06:30:43.934070Z",
     "start_time": "2024-06-27T06:30:43.924886Z"
    }
   },
   "cell_type": "code",
   "source": [
    "data.dropna(inplace=True)\n",
    "data.shape"
   ],
   "id": "89308a11be86fac2",
   "outputs": [
    {
     "data": {
      "text/plain": [
       "(3339, 2)"
      ]
     },
     "execution_count": 7,
     "metadata": {},
     "output_type": "execute_result"
    }
   ],
   "execution_count": 7
  },
  {
   "metadata": {
    "ExecuteTime": {
     "end_time": "2024-06-27T06:30:45.349332Z",
     "start_time": "2024-06-27T06:30:45.337769Z"
    }
   },
   "cell_type": "code",
   "source": [
    "data.Label.replace(1,\"Not_Fake\",inplace=True)\n",
    "data.Label.replace(0,\"Fake\",inplace=True)\n",
    "data.sample(5)"
   ],
   "id": "5fc0840bcaa4e9e2",
   "outputs": [
    {
     "data": {
      "text/plain": [
       "                                                 Review     Label\n",
       "2416  কি খবর জনগণ?ব্রাউনি খাবা নাকি?  খেয়ে দেয়া টাইপ...  Not_Fake\n",
       "2703  কলকাতা কাচ্চি খাওয়ার শখ চাপলো, কিন্তু এই জ্যাম...  Not_Fake\n",
       "1044  Salads 🥒🥬🥦🌽 \\r\\n সালাদ খেয়ে পেট ভরে না, কে বলে...      Fake\n",
       "1135  ১/আপনি কি স্টুডেন্ট/চাকুরীজীবি???\\r\\n২/আপনি কি...      Fake\n",
       "1775  মোহাম্মদপুর সলিমুল্লাহ রোডের একটু ভিতর দিকে ঢু...  Not_Fake"
      ],
      "text/html": [
       "<div>\n",
       "<style scoped>\n",
       "    .dataframe tbody tr th:only-of-type {\n",
       "        vertical-align: middle;\n",
       "    }\n",
       "\n",
       "    .dataframe tbody tr th {\n",
       "        vertical-align: top;\n",
       "    }\n",
       "\n",
       "    .dataframe thead th {\n",
       "        text-align: right;\n",
       "    }\n",
       "</style>\n",
       "<table border=\"1\" class=\"dataframe\">\n",
       "  <thead>\n",
       "    <tr style=\"text-align: right;\">\n",
       "      <th></th>\n",
       "      <th>Review</th>\n",
       "      <th>Label</th>\n",
       "    </tr>\n",
       "  </thead>\n",
       "  <tbody>\n",
       "    <tr>\n",
       "      <th>2416</th>\n",
       "      <td>কি খবর জনগণ?ব্রাউনি খাবা নাকি?  খেয়ে দেয়া টাইপ...</td>\n",
       "      <td>Not_Fake</td>\n",
       "    </tr>\n",
       "    <tr>\n",
       "      <th>2703</th>\n",
       "      <td>কলকাতা কাচ্চি খাওয়ার শখ চাপলো, কিন্তু এই জ্যাম...</td>\n",
       "      <td>Not_Fake</td>\n",
       "    </tr>\n",
       "    <tr>\n",
       "      <th>1044</th>\n",
       "      <td>Salads 🥒🥬🥦🌽 \\r\\n সালাদ খেয়ে পেট ভরে না, কে বলে...</td>\n",
       "      <td>Fake</td>\n",
       "    </tr>\n",
       "    <tr>\n",
       "      <th>1135</th>\n",
       "      <td>১/আপনি কি স্টুডেন্ট/চাকুরীজীবি???\\r\\n২/আপনি কি...</td>\n",
       "      <td>Fake</td>\n",
       "    </tr>\n",
       "    <tr>\n",
       "      <th>1775</th>\n",
       "      <td>মোহাম্মদপুর সলিমুল্লাহ রোডের একটু ভিতর দিকে ঢু...</td>\n",
       "      <td>Not_Fake</td>\n",
       "    </tr>\n",
       "  </tbody>\n",
       "</table>\n",
       "</div>"
      ]
     },
     "execution_count": 8,
     "metadata": {},
     "output_type": "execute_result"
    }
   ],
   "execution_count": 8
  },
  {
   "metadata": {
    "ExecuteTime": {
     "end_time": "2024-06-27T06:30:49.285730Z",
     "start_time": "2024-06-27T06:30:49.273925Z"
    }
   },
   "cell_type": "code",
   "source": [
    "data[\"Label\"] = \"__label__\" + data[\"Label\"].astype(str)\n",
    "data.sample(5)"
   ],
   "id": "e44e01248be57a43",
   "outputs": [
    {
     "data": {
      "text/plain": [
       "                                                 Review              Label\n",
       "734   Fuoco তে ২২ টাকার অফার দেখে চলে গেলাম , আর টেস...      __label__Fake\n",
       "1468  সীফুড খেতে কক্সবাজার না গিয়ে উত্তরায় চলে আসুন।...  __label__Not_Fake\n",
       "1575  #রেস্টুরেন্টে_যখন_ফুল_বাগান  Time Square Dine ...  __label__Not_Fake\n",
       "536   \"#DFSC_09\\r\\n#(Rupkotha /SERVICE NAME)\\r\\n**Pl...      __label__Fake\n",
       "2819  প্রতিবছর চকবাজার ইফাতার বাজার যাওয়ার সুযোগ হতো...  __label__Not_Fake"
      ],
      "text/html": [
       "<div>\n",
       "<style scoped>\n",
       "    .dataframe tbody tr th:only-of-type {\n",
       "        vertical-align: middle;\n",
       "    }\n",
       "\n",
       "    .dataframe tbody tr th {\n",
       "        vertical-align: top;\n",
       "    }\n",
       "\n",
       "    .dataframe thead th {\n",
       "        text-align: right;\n",
       "    }\n",
       "</style>\n",
       "<table border=\"1\" class=\"dataframe\">\n",
       "  <thead>\n",
       "    <tr style=\"text-align: right;\">\n",
       "      <th></th>\n",
       "      <th>Review</th>\n",
       "      <th>Label</th>\n",
       "    </tr>\n",
       "  </thead>\n",
       "  <tbody>\n",
       "    <tr>\n",
       "      <th>734</th>\n",
       "      <td>Fuoco তে ২২ টাকার অফার দেখে চলে গেলাম , আর টেস...</td>\n",
       "      <td>__label__Fake</td>\n",
       "    </tr>\n",
       "    <tr>\n",
       "      <th>1468</th>\n",
       "      <td>সীফুড খেতে কক্সবাজার না গিয়ে উত্তরায় চলে আসুন।...</td>\n",
       "      <td>__label__Not_Fake</td>\n",
       "    </tr>\n",
       "    <tr>\n",
       "      <th>1575</th>\n",
       "      <td>#রেস্টুরেন্টে_যখন_ফুল_বাগান  Time Square Dine ...</td>\n",
       "      <td>__label__Not_Fake</td>\n",
       "    </tr>\n",
       "    <tr>\n",
       "      <th>536</th>\n",
       "      <td>\"#DFSC_09\\r\\n#(Rupkotha /SERVICE NAME)\\r\\n**Pl...</td>\n",
       "      <td>__label__Fake</td>\n",
       "    </tr>\n",
       "    <tr>\n",
       "      <th>2819</th>\n",
       "      <td>প্রতিবছর চকবাজার ইফাতার বাজার যাওয়ার সুযোগ হতো...</td>\n",
       "      <td>__label__Not_Fake</td>\n",
       "    </tr>\n",
       "  </tbody>\n",
       "</table>\n",
       "</div>"
      ]
     },
     "execution_count": 9,
     "metadata": {},
     "output_type": "execute_result"
    }
   ],
   "execution_count": 9
  },
  {
   "metadata": {
    "ExecuteTime": {
     "end_time": "2024-06-27T06:30:50.079283Z",
     "start_time": "2024-06-27T06:30:50.058872Z"
    }
   },
   "cell_type": "code",
   "source": [
    "data[\"category_description\"] = data[\"Label\"] +\" \"+ data[\"Review\"]\n",
    "data.sample(5)"
   ],
   "id": "57d85a08d92ade76",
   "outputs": [
    {
     "data": {
      "text/plain": [
       "                                                 Review              Label  \\\n",
       "2969  খিলগাঁও এর ভিতর স্যান্ডুইচ এর মধ্যে Bundose বে...  __label__Not_Fake   \n",
       "1046  সিঙাড়া হচ্ছে ইল্যুমিনাতি বা দাজ্জালের খাবার।🙏\\...      __label__Fake   \n",
       "2459  প্লেসঃ আব্দুল মজিদ স্পেশাল ঘরোয়া খাবারFoodBank...  __label__Not_Fake   \n",
       "429   *খাবার : কাপল কম্বো -৬৭৯/\\r\\n* ফ্রাইড রাইস    ...      __label__Fake   \n",
       "1771  অবশেষে আমরাও খেয়ে আসলাম Pizzaology Wari এর ১৫০...  __label__Not_Fake   \n",
       "\n",
       "                                   category_description  \n",
       "2969  __label__Not_Fake খিলগাঁও এর ভিতর স্যান্ডুইচ এ...  \n",
       "1046  __label__Fake সিঙাড়া হচ্ছে ইল্যুমিনাতি বা দাজ্...  \n",
       "2459  __label__Not_Fake প্লেসঃ আব্দুল মজিদ স্পেশাল ঘ...  \n",
       "429   __label__Fake *খাবার : কাপল কম্বো -৬৭৯/\\r\\n* ফ...  \n",
       "1771  __label__Not_Fake অবশেষে আমরাও খেয়ে আসলাম Pizz...  "
      ],
      "text/html": [
       "<div>\n",
       "<style scoped>\n",
       "    .dataframe tbody tr th:only-of-type {\n",
       "        vertical-align: middle;\n",
       "    }\n",
       "\n",
       "    .dataframe tbody tr th {\n",
       "        vertical-align: top;\n",
       "    }\n",
       "\n",
       "    .dataframe thead th {\n",
       "        text-align: right;\n",
       "    }\n",
       "</style>\n",
       "<table border=\"1\" class=\"dataframe\">\n",
       "  <thead>\n",
       "    <tr style=\"text-align: right;\">\n",
       "      <th></th>\n",
       "      <th>Review</th>\n",
       "      <th>Label</th>\n",
       "      <th>category_description</th>\n",
       "    </tr>\n",
       "  </thead>\n",
       "  <tbody>\n",
       "    <tr>\n",
       "      <th>2969</th>\n",
       "      <td>খিলগাঁও এর ভিতর স্যান্ডুইচ এর মধ্যে Bundose বে...</td>\n",
       "      <td>__label__Not_Fake</td>\n",
       "      <td>__label__Not_Fake খিলগাঁও এর ভিতর স্যান্ডুইচ এ...</td>\n",
       "    </tr>\n",
       "    <tr>\n",
       "      <th>1046</th>\n",
       "      <td>সিঙাড়া হচ্ছে ইল্যুমিনাতি বা দাজ্জালের খাবার।🙏\\...</td>\n",
       "      <td>__label__Fake</td>\n",
       "      <td>__label__Fake সিঙাড়া হচ্ছে ইল্যুমিনাতি বা দাজ্...</td>\n",
       "    </tr>\n",
       "    <tr>\n",
       "      <th>2459</th>\n",
       "      <td>প্লেসঃ আব্দুল মজিদ স্পেশাল ঘরোয়া খাবারFoodBank...</td>\n",
       "      <td>__label__Not_Fake</td>\n",
       "      <td>__label__Not_Fake প্লেসঃ আব্দুল মজিদ স্পেশাল ঘ...</td>\n",
       "    </tr>\n",
       "    <tr>\n",
       "      <th>429</th>\n",
       "      <td>*খাবার : কাপল কম্বো -৬৭৯/\\r\\n* ফ্রাইড রাইস    ...</td>\n",
       "      <td>__label__Fake</td>\n",
       "      <td>__label__Fake *খাবার : কাপল কম্বো -৬৭৯/\\r\\n* ফ...</td>\n",
       "    </tr>\n",
       "    <tr>\n",
       "      <th>1771</th>\n",
       "      <td>অবশেষে আমরাও খেয়ে আসলাম Pizzaology Wari এর ১৫০...</td>\n",
       "      <td>__label__Not_Fake</td>\n",
       "      <td>__label__Not_Fake অবশেষে আমরাও খেয়ে আসলাম Pizz...</td>\n",
       "    </tr>\n",
       "  </tbody>\n",
       "</table>\n",
       "</div>"
      ]
     },
     "execution_count": 10,
     "metadata": {},
     "output_type": "execute_result"
    }
   ],
   "execution_count": 10
  },
  {
   "metadata": {
    "ExecuteTime": {
     "end_time": "2024-06-27T06:30:51.682191Z",
     "start_time": "2024-06-27T06:30:51.676273Z"
    }
   },
   "cell_type": "code",
   "source": [
    "def preprocess(sentence):\n",
    "    sentence = re.sub(\"['।,]+\",' ',sentence)\n",
    "    sentence = re.sub(r'\\n', '', sentence)\n",
    "    sentence = re.sub(r'[ ]+', ' ', sentence)\n",
    "    return sentence.strip().lower()"
   ],
   "id": "d39c4727e9429006",
   "outputs": [],
   "execution_count": 11
  },
  {
   "metadata": {
    "ExecuteTime": {
     "end_time": "2024-06-27T06:30:52.927160Z",
     "start_time": "2024-06-27T06:30:52.689124Z"
    }
   },
   "cell_type": "code",
   "source": [
    "data.category_description = data.category_description.map(preprocess)\n",
    "data.sample(5)"
   ],
   "id": "a0e9cd48fe3d1f4c",
   "outputs": [
    {
     "data": {
      "text/plain": [
       "                                                 Review              Label  \\\n",
       "3259  কাজে গিয়েছিলাম পান্থপথ। দুপুরে লাগে ক্ষুধা লাগ...  __label__Not_Fake   \n",
       "2854  টেক আউট বা প্রিতমের সাথে কমপেয়ার করবোনা তবে মি...  __label__Not_Fake   \n",
       "427   #খানাপিনা_সমাচার♥️💃🏻\\r\\nখেতে গিয়েছিলাম ইন্টার...      __label__Fake   \n",
       "1527  #CONFERMATION_POST....রিভিউ দেখে খাবারটা খেতে ...  __label__Not_Fake   \n",
       "2997  The Pabulumবার্গারের অথেনটিক স্বাদ না পেলেও এ্...  __label__Not_Fake   \n",
       "\n",
       "                                   category_description  \n",
       "3259  __label__not_fake কাজে গিয়েছিলাম পান্থপথ দুপুর...  \n",
       "2854  __label__not_fake টেক আউট বা প্রিতমের সাথে কমপ...  \n",
       "427   __label__fake #খানাপিনা_সমাচার♥️💃🏻\\rখেতে গিয়ে...  \n",
       "1527  __label__not_fake #confermation_post....রিভিউ ...  \n",
       "2997  __label__not_fake the pabulumবার্গারের অথেনটিক...  "
      ],
      "text/html": [
       "<div>\n",
       "<style scoped>\n",
       "    .dataframe tbody tr th:only-of-type {\n",
       "        vertical-align: middle;\n",
       "    }\n",
       "\n",
       "    .dataframe tbody tr th {\n",
       "        vertical-align: top;\n",
       "    }\n",
       "\n",
       "    .dataframe thead th {\n",
       "        text-align: right;\n",
       "    }\n",
       "</style>\n",
       "<table border=\"1\" class=\"dataframe\">\n",
       "  <thead>\n",
       "    <tr style=\"text-align: right;\">\n",
       "      <th></th>\n",
       "      <th>Review</th>\n",
       "      <th>Label</th>\n",
       "      <th>category_description</th>\n",
       "    </tr>\n",
       "  </thead>\n",
       "  <tbody>\n",
       "    <tr>\n",
       "      <th>3259</th>\n",
       "      <td>কাজে গিয়েছিলাম পান্থপথ। দুপুরে লাগে ক্ষুধা লাগ...</td>\n",
       "      <td>__label__Not_Fake</td>\n",
       "      <td>__label__not_fake কাজে গিয়েছিলাম পান্থপথ দুপুর...</td>\n",
       "    </tr>\n",
       "    <tr>\n",
       "      <th>2854</th>\n",
       "      <td>টেক আউট বা প্রিতমের সাথে কমপেয়ার করবোনা তবে মি...</td>\n",
       "      <td>__label__Not_Fake</td>\n",
       "      <td>__label__not_fake টেক আউট বা প্রিতমের সাথে কমপ...</td>\n",
       "    </tr>\n",
       "    <tr>\n",
       "      <th>427</th>\n",
       "      <td>#খানাপিনা_সমাচার♥️💃🏻\\r\\nখেতে গিয়েছিলাম ইন্টার...</td>\n",
       "      <td>__label__Fake</td>\n",
       "      <td>__label__fake #খানাপিনা_সমাচার♥️💃🏻\\rখেতে গিয়ে...</td>\n",
       "    </tr>\n",
       "    <tr>\n",
       "      <th>1527</th>\n",
       "      <td>#CONFERMATION_POST....রিভিউ দেখে খাবারটা খেতে ...</td>\n",
       "      <td>__label__Not_Fake</td>\n",
       "      <td>__label__not_fake #confermation_post....রিভিউ ...</td>\n",
       "    </tr>\n",
       "    <tr>\n",
       "      <th>2997</th>\n",
       "      <td>The Pabulumবার্গারের অথেনটিক স্বাদ না পেলেও এ্...</td>\n",
       "      <td>__label__Not_Fake</td>\n",
       "      <td>__label__not_fake the pabulumবার্গারের অথেনটিক...</td>\n",
       "    </tr>\n",
       "  </tbody>\n",
       "</table>\n",
       "</div>"
      ]
     },
     "execution_count": 12,
     "metadata": {},
     "output_type": "execute_result"
    }
   ],
   "execution_count": 12
  },
  {
   "metadata": {
    "ExecuteTime": {
     "end_time": "2024-06-27T06:30:54.885027Z",
     "start_time": "2024-06-27T06:30:54.877315Z"
    }
   },
   "cell_type": "code",
   "source": "train_set, test_set = train_test_split(data, test_size=0.2, random_state=42)",
   "id": "8bd0cd41e6b58402",
   "outputs": [],
   "execution_count": 13
  },
  {
   "metadata": {
    "ExecuteTime": {
     "end_time": "2024-06-27T06:30:56.887848Z",
     "start_time": "2024-06-27T06:30:56.877894Z"
    }
   },
   "cell_type": "code",
   "source": "train_set.category_description",
   "id": "eaf26966aeacf6f3",
   "outputs": [
    {
     "data": {
      "text/plain": [
       "3255    __label__not_fake the pabulum #a_great_initiat...\n",
       "2009    __label__not_fake #৯৯৳তান্দুরী আস্ত একটা মুরগি...\n",
       "712                            __label__fake #paid review\n",
       "2861    __label__not_fake কাচ্চি লাভারদের জন্য বর্তমান...\n",
       "1506    __label__not_fake #১২১টাকা নাকি #২৬টাকা#২৬শে_ম...\n",
       "                              ...                        \n",
       "1095    __label__fake place: রাজমহল ফুডকোর্ট \\rprice: ...\n",
       "1130    __label__fake হ্যালো ভোজন প্রিয় নারায়ণগঞ্জ বা...\n",
       "1294    __label__fake আচ্ছা! বাম চোখ লাফালে কি বিপদ আস...\n",
       "860     __label__fake #brownie ❤ \\rthis fudgy brownie ...\n",
       "3174    __label__not_fake আনন্দময় ঈদের কাছাকাছি সময়ে র...\n",
       "Name: category_description, Length: 2671, dtype: object"
      ]
     },
     "execution_count": 14,
     "metadata": {},
     "output_type": "execute_result"
    }
   ],
   "execution_count": 14
  },
  {
   "metadata": {
    "ExecuteTime": {
     "end_time": "2024-06-27T06:30:59.740630Z",
     "start_time": "2024-06-27T06:30:59.597399Z"
    }
   },
   "cell_type": "code",
   "source": [
    "train_set.to_csv('food_review.train',columns=[\"category_description\"],index=False,header=False)\n",
    "test_set.to_csv('food_review.test',columns=[\"category_description\"],index=False,header=False)"
   ],
   "id": "e7935cef75ffff1a",
   "outputs": [],
   "execution_count": 15
  },
  {
   "metadata": {
    "ExecuteTime": {
     "end_time": "2024-06-27T06:31:02.072996Z",
     "start_time": "2024-06-27T06:31:01.771254Z"
    }
   },
   "cell_type": "code",
   "source": "model = fasttext.train_supervised(input='food_review.train')\n",
   "id": "adfa7f9952478ba",
   "outputs": [],
   "execution_count": 16
  },
  {
   "metadata": {
    "ExecuteTime": {
     "end_time": "2024-06-27T06:31:03.689029Z",
     "start_time": "2024-06-27T06:31:03.643141Z"
    }
   },
   "cell_type": "code",
   "source": "model.test(\"food_review.test\")",
   "id": "19755b97bf68b517",
   "outputs": [
    {
     "data": {
      "text/plain": [
       "(351, 0.9772079772079773, 0.9772079772079773)"
      ]
     },
     "execution_count": 17,
     "metadata": {},
     "output_type": "execute_result"
    }
   ],
   "execution_count": 17
  },
  {
   "metadata": {
    "ExecuteTime": {
     "end_time": "2024-06-27T06:31:11.354223Z",
     "start_time": "2024-06-27T06:31:11.342040Z"
    }
   },
   "cell_type": "code",
   "source": "model.predict('''○বান্ধুবিরা মিলে অনেক দিন পর বের হয়েছিলাম রিক্সায় ঘুরতে কিন্তুু ওরা খালি চাস্ন থাকে treat জন্য আমার আবার সুন্দর সুন্দর sun glass পরতে অনেক ভাল লাগে নতুন একটা চশমা পরে আজকে বের হয়েছিলাম বান্ধুবিরাও বললো েতাকে মানাইসে treat বাহানা আর খুইজা না পাওয়ায় বলতাসে নতুন glass কিনসস সেই খুশিতে treat দে 😒 কি আর করার অই দিন ফুড ব্যাংকে burger fiesta review দেক্লাম খুব reasonable price তাদের ফুডের আর খাবারও মজা আগেও তাদের ফুড আমি test করেছি 😋then burger fiesta গেলাম আমরা অডার করেছিলাম naga wings 🍗naga wings টা খুবই ঝাল ঝাল আমার খুব মজা লাগে জারা ঝাল খেতে পারেন must be try করবেন and সাথে অবশ্যই cold coffee নিতে হবে তাহলে test টা আরও মজা লাগে 😋 i love this burger fiesta s french fry 🍟🧡তাদের french fry টা খুবই crispy হয় and last one chicken sandwich as a good test 🥪 1.naga wings 4 pics/🍗99 tk. 2.chicken sandwich 4 pics🥪/99 tk. 3.french fry /100 tk 🍟 4.cold coffee 70 tk🍹''')",
   "id": "49e6c9074674083e",
   "outputs": [
    {
     "data": {
      "text/plain": [
       "(('__label__not_fake',), array([0.91562426]))"
      ]
     },
     "execution_count": 18,
     "metadata": {},
     "output_type": "execute_result"
    }
   ],
   "execution_count": 18
  },
  {
   "metadata": {
    "ExecuteTime": {
     "end_time": "2024-06-27T06:31:21.258194Z",
     "start_time": "2024-06-27T06:31:21.141960Z"
    }
   },
   "cell_type": "code",
   "source": "model.save_model('bangla_food_review.model')",
   "id": "f8f52e539cdbce7a",
   "outputs": [],
   "execution_count": 19
  },
  {
   "metadata": {},
   "cell_type": "code",
   "outputs": [],
   "execution_count": null,
   "source": "",
   "id": "99da98344dda8a3e"
  }
 ],
 "metadata": {
  "kernelspec": {
   "display_name": "Python 3",
   "language": "python",
   "name": "python3"
  },
  "language_info": {
   "codemirror_mode": {
    "name": "ipython",
    "version": 2
   },
   "file_extension": ".py",
   "mimetype": "text/x-python",
   "name": "python",
   "nbconvert_exporter": "python",
   "pygments_lexer": "ipython2",
   "version": "2.7.6"
  }
 },
 "nbformat": 4,
 "nbformat_minor": 5
}
