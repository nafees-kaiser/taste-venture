{
 "cells": [
  {
   "cell_type": "code",
   "id": "initial_id",
   "metadata": {
    "collapsed": true,
    "ExecuteTime": {
     "end_time": "2024-06-24T09:48:11.480039Z",
     "start_time": "2024-06-24T09:48:11.476533Z"
    }
   },
   "source": [
    "import pandas as pd\n",
    "import numpy as np\n",
    "from matplotlib import pyplot as plt\n",
    "from sklearn.model_selection import train_test_split\n",
    "import fasttext\n",
    "import re"
   ],
   "outputs": [],
   "execution_count": 13
  },
  {
   "metadata": {
    "ExecuteTime": {
     "end_time": "2024-06-24T09:45:54.466648Z",
     "start_time": "2024-06-24T09:45:54.425061Z"
    }
   },
   "cell_type": "code",
   "source": [
    "fake = pd.read_csv('fake.csv')\n",
    "fake.shape"
   ],
   "id": "5fefbbba9083a3b0",
   "outputs": [
    {
     "data": {
      "text/plain": [
       "(1339, 2)"
      ]
     },
     "execution_count": 2,
     "metadata": {},
     "output_type": "execute_result"
    }
   ],
   "execution_count": 2
  },
  {
   "metadata": {
    "ExecuteTime": {
     "end_time": "2024-06-24T10:31:01.138434Z",
     "start_time": "2024-06-24T10:31:00.840439Z"
    }
   },
   "cell_type": "code",
   "source": [
    "non_fake = pd.read_csv('non-fake.csv')\n",
    "# non_fake = non_fake.sample(n=2000,random_state=10)"
   ],
   "id": "2ee309e1a295b6b5",
   "outputs": [],
   "execution_count": 25
  },
  {
   "metadata": {
    "ExecuteTime": {
     "end_time": "2024-06-24T10:31:01.769276Z",
     "start_time": "2024-06-24T10:31:01.754792Z"
    }
   },
   "cell_type": "code",
   "source": [
    "dataset = pd.concat([fake,non_fake])\n",
    "dataset.sample(10)"
   ],
   "id": "13d9bc34753e5c9c",
   "outputs": [
    {
     "data": {
      "text/plain": [
       "                                                 Review  Label\n",
       "3843  #পুরান_ঢাকা_সমাচার নাম করা কিছু জায়গায় খাইতে গ...      1\n",
       "6771  !!৩ টকের ফুচকা!!.মুগদা মেডিকেলের পিছের দিকে বল...      1\n",
       "2876  #ঢাকার_সেরা_সেট_ম্যানু_২০০_টাকায় Laa Eatery Re...      1\n",
       "1640  কালকে 2 Point 0 Rooftop Caff  এর ৫০% অফ অফার প...      1\n",
       "4172  ফ্রেন্ডদের সাথে খেতে গিয়েছিলাম। অনেক ভালো লাগ...      1\n",
       "4536  #BurgerLoverAfter A Long Time, I'm Back With M...      1\n",
       "4785  বেশ কিছুদিন আগে একটা কন্টেস্ট হয়েছিল। সেই কন্ট...      1\n",
       "7440  #BurgerLover#BurgerMonth#Uttaraফেব্রুয়ারীকে মা...      1\n",
       "4459  #বাফেটে_পিৎজা_খেলাম #New_buffetalert       The...      1\n",
       "1929  Buffet Review @Meritage DhakaDecoration যেমন অ...      1"
      ],
      "text/html": [
       "<div>\n",
       "<style scoped>\n",
       "    .dataframe tbody tr th:only-of-type {\n",
       "        vertical-align: middle;\n",
       "    }\n",
       "\n",
       "    .dataframe tbody tr th {\n",
       "        vertical-align: top;\n",
       "    }\n",
       "\n",
       "    .dataframe thead th {\n",
       "        text-align: right;\n",
       "    }\n",
       "</style>\n",
       "<table border=\"1\" class=\"dataframe\">\n",
       "  <thead>\n",
       "    <tr style=\"text-align: right;\">\n",
       "      <th></th>\n",
       "      <th>Review</th>\n",
       "      <th>Label</th>\n",
       "    </tr>\n",
       "  </thead>\n",
       "  <tbody>\n",
       "    <tr>\n",
       "      <th>3843</th>\n",
       "      <td>#পুরান_ঢাকা_সমাচার নাম করা কিছু জায়গায় খাইতে গ...</td>\n",
       "      <td>1</td>\n",
       "    </tr>\n",
       "    <tr>\n",
       "      <th>6771</th>\n",
       "      <td>!!৩ টকের ফুচকা!!.মুগদা মেডিকেলের পিছের দিকে বল...</td>\n",
       "      <td>1</td>\n",
       "    </tr>\n",
       "    <tr>\n",
       "      <th>2876</th>\n",
       "      <td>#ঢাকার_সেরা_সেট_ম্যানু_২০০_টাকায় Laa Eatery Re...</td>\n",
       "      <td>1</td>\n",
       "    </tr>\n",
       "    <tr>\n",
       "      <th>1640</th>\n",
       "      <td>কালকে 2 Point 0 Rooftop Caff  এর ৫০% অফ অফার প...</td>\n",
       "      <td>1</td>\n",
       "    </tr>\n",
       "    <tr>\n",
       "      <th>4172</th>\n",
       "      <td>ফ্রেন্ডদের সাথে খেতে গিয়েছিলাম। অনেক ভালো লাগ...</td>\n",
       "      <td>1</td>\n",
       "    </tr>\n",
       "    <tr>\n",
       "      <th>4536</th>\n",
       "      <td>#BurgerLoverAfter A Long Time, I'm Back With M...</td>\n",
       "      <td>1</td>\n",
       "    </tr>\n",
       "    <tr>\n",
       "      <th>4785</th>\n",
       "      <td>বেশ কিছুদিন আগে একটা কন্টেস্ট হয়েছিল। সেই কন্ট...</td>\n",
       "      <td>1</td>\n",
       "    </tr>\n",
       "    <tr>\n",
       "      <th>7440</th>\n",
       "      <td>#BurgerLover#BurgerMonth#Uttaraফেব্রুয়ারীকে মা...</td>\n",
       "      <td>1</td>\n",
       "    </tr>\n",
       "    <tr>\n",
       "      <th>4459</th>\n",
       "      <td>#বাফেটে_পিৎজা_খেলাম #New_buffetalert       The...</td>\n",
       "      <td>1</td>\n",
       "    </tr>\n",
       "    <tr>\n",
       "      <th>1929</th>\n",
       "      <td>Buffet Review @Meritage DhakaDecoration যেমন অ...</td>\n",
       "      <td>1</td>\n",
       "    </tr>\n",
       "  </tbody>\n",
       "</table>\n",
       "</div>"
      ]
     },
     "execution_count": 26,
     "metadata": {},
     "output_type": "execute_result"
    }
   ],
   "execution_count": 26
  },
  {
   "metadata": {
    "ExecuteTime": {
     "end_time": "2024-06-24T10:31:04.216891Z",
     "start_time": "2024-06-24T10:31:03.961674Z"
    }
   },
   "cell_type": "code",
   "source": "dataset.to_csv('bangla_food_review.csv',index=False)",
   "id": "d0e147fb85e5438a",
   "outputs": [],
   "execution_count": 27
  },
  {
   "metadata": {
    "ExecuteTime": {
     "end_time": "2024-06-24T10:31:05.324254Z",
     "start_time": "2024-06-24T10:31:04.945299Z"
    }
   },
   "cell_type": "code",
   "source": [
    "data = pd.read_csv('bangla_food_review.csv')\n",
    "data.sample(5)"
   ],
   "id": "ad8a6d2cd139f9f7",
   "outputs": [
    {
     "data": {
      "text/plain": [
       "                                                 Review  Label\n",
       "1849  \"আপনি কি বনশ্রী-রামপুরা-আফতাবনগর বা এর আশেপাশে...      1\n",
       "659   #pakkipagol লিখে আপনার অনুভূতি জানিয়ে জিতে নি...      0\n",
       "5560  বনশ্রীর আফতাবনগরের ভূ-স্বর্গ । একদম নতুন গর্জি...      1\n",
       "4039  ঝালখোর সেই লেভেলের?বনানীর বাসিন্দা? ভেলপুরি ভা...      1\n",
       "3387  খিলগাঁওয়ে মুক্তা বিরিয়ানি ঘরের ঝাল ঝাল গরুর চা...      1"
      ],
      "text/html": [
       "<div>\n",
       "<style scoped>\n",
       "    .dataframe tbody tr th:only-of-type {\n",
       "        vertical-align: middle;\n",
       "    }\n",
       "\n",
       "    .dataframe tbody tr th {\n",
       "        vertical-align: top;\n",
       "    }\n",
       "\n",
       "    .dataframe thead th {\n",
       "        text-align: right;\n",
       "    }\n",
       "</style>\n",
       "<table border=\"1\" class=\"dataframe\">\n",
       "  <thead>\n",
       "    <tr style=\"text-align: right;\">\n",
       "      <th></th>\n",
       "      <th>Review</th>\n",
       "      <th>Label</th>\n",
       "    </tr>\n",
       "  </thead>\n",
       "  <tbody>\n",
       "    <tr>\n",
       "      <th>1849</th>\n",
       "      <td>\"আপনি কি বনশ্রী-রামপুরা-আফতাবনগর বা এর আশেপাশে...</td>\n",
       "      <td>1</td>\n",
       "    </tr>\n",
       "    <tr>\n",
       "      <th>659</th>\n",
       "      <td>#pakkipagol লিখে আপনার অনুভূতি জানিয়ে জিতে নি...</td>\n",
       "      <td>0</td>\n",
       "    </tr>\n",
       "    <tr>\n",
       "      <th>5560</th>\n",
       "      <td>বনশ্রীর আফতাবনগরের ভূ-স্বর্গ । একদম নতুন গর্জি...</td>\n",
       "      <td>1</td>\n",
       "    </tr>\n",
       "    <tr>\n",
       "      <th>4039</th>\n",
       "      <td>ঝালখোর সেই লেভেলের?বনানীর বাসিন্দা? ভেলপুরি ভা...</td>\n",
       "      <td>1</td>\n",
       "    </tr>\n",
       "    <tr>\n",
       "      <th>3387</th>\n",
       "      <td>খিলগাঁওয়ে মুক্তা বিরিয়ানি ঘরের ঝাল ঝাল গরুর চা...</td>\n",
       "      <td>1</td>\n",
       "    </tr>\n",
       "  </tbody>\n",
       "</table>\n",
       "</div>"
      ]
     },
     "execution_count": 28,
     "metadata": {},
     "output_type": "execute_result"
    }
   ],
   "execution_count": 28
  },
  {
   "metadata": {
    "ExecuteTime": {
     "end_time": "2024-06-24T10:31:06.366356Z",
     "start_time": "2024-06-24T10:31:06.354341Z"
    }
   },
   "cell_type": "code",
   "source": [
    "data.dropna(inplace=True)\n",
    "data.shape"
   ],
   "id": "89308a11be86fac2",
   "outputs": [
    {
     "data": {
      "text/plain": [
       "(9049, 2)"
      ]
     },
     "execution_count": 29,
     "metadata": {},
     "output_type": "execute_result"
    }
   ],
   "execution_count": 29
  },
  {
   "metadata": {
    "ExecuteTime": {
     "end_time": "2024-06-24T10:31:07.820651Z",
     "start_time": "2024-06-24T10:31:07.804145Z"
    }
   },
   "cell_type": "code",
   "source": [
    "data.Label.replace(1,\"Not_Fake\",inplace=True)\n",
    "data.Label.replace(0,\"Fake\",inplace=True)\n",
    "data.sample(5)"
   ],
   "id": "5fc0840bcaa4e9e2",
   "outputs": [
    {
     "data": {
      "text/plain": [
       "                                                 Review     Label\n",
       "4630  ধানমন্ডির সেরা খিচুড়ি Star Kabab ও ফেল‌ আর দাম...  Not_Fake\n",
       "7921  #১২২ টাকায় আস্ত মুরগির এত বড় রোস্ট পোলাও জনপ্...  Not_Fake\n",
       "4415  The Dining Lounge Wari Rooftop onader chowmein...  Not_Fake\n",
       "6534  মিরপুর এর হাজার হাজার রেস্টুরেন্ট এর মাঝে আজকে...  Not_Fake\n",
       "7094  রেস্তোরাঁ : butter the bakery and waffle house...  Not_Fake"
      ],
      "text/html": [
       "<div>\n",
       "<style scoped>\n",
       "    .dataframe tbody tr th:only-of-type {\n",
       "        vertical-align: middle;\n",
       "    }\n",
       "\n",
       "    .dataframe tbody tr th {\n",
       "        vertical-align: top;\n",
       "    }\n",
       "\n",
       "    .dataframe thead th {\n",
       "        text-align: right;\n",
       "    }\n",
       "</style>\n",
       "<table border=\"1\" class=\"dataframe\">\n",
       "  <thead>\n",
       "    <tr style=\"text-align: right;\">\n",
       "      <th></th>\n",
       "      <th>Review</th>\n",
       "      <th>Label</th>\n",
       "    </tr>\n",
       "  </thead>\n",
       "  <tbody>\n",
       "    <tr>\n",
       "      <th>4630</th>\n",
       "      <td>ধানমন্ডির সেরা খিচুড়ি Star Kabab ও ফেল‌ আর দাম...</td>\n",
       "      <td>Not_Fake</td>\n",
       "    </tr>\n",
       "    <tr>\n",
       "      <th>7921</th>\n",
       "      <td>#১২২ টাকায় আস্ত মুরগির এত বড় রোস্ট পোলাও জনপ্...</td>\n",
       "      <td>Not_Fake</td>\n",
       "    </tr>\n",
       "    <tr>\n",
       "      <th>4415</th>\n",
       "      <td>The Dining Lounge Wari Rooftop onader chowmein...</td>\n",
       "      <td>Not_Fake</td>\n",
       "    </tr>\n",
       "    <tr>\n",
       "      <th>6534</th>\n",
       "      <td>মিরপুর এর হাজার হাজার রেস্টুরেন্ট এর মাঝে আজকে...</td>\n",
       "      <td>Not_Fake</td>\n",
       "    </tr>\n",
       "    <tr>\n",
       "      <th>7094</th>\n",
       "      <td>রেস্তোরাঁ : butter the bakery and waffle house...</td>\n",
       "      <td>Not_Fake</td>\n",
       "    </tr>\n",
       "  </tbody>\n",
       "</table>\n",
       "</div>"
      ]
     },
     "execution_count": 30,
     "metadata": {},
     "output_type": "execute_result"
    }
   ],
   "execution_count": 30
  },
  {
   "metadata": {
    "ExecuteTime": {
     "end_time": "2024-06-24T10:31:09.455488Z",
     "start_time": "2024-06-24T10:31:09.444451Z"
    }
   },
   "cell_type": "code",
   "source": [
    "data[\"Label\"] = \"__label__\" + data[\"Label\"].astype(str)\n",
    "data.sample(5)"
   ],
   "id": "e44e01248be57a43",
   "outputs": [
    {
     "data": {
      "text/plain": [
       "                                                 Review              Label\n",
       "6242  Fried Rice with Chicken Tandoori - only 150/=ব...  __label__Not_Fake\n",
       "6777  Mexican BBQ Rice BowlPlace: Mexican Spicy, শ্য...  __label__Not_Fake\n",
       "1743  আজকে উত্তরা গ্রামের এক বিখ্যাত রেস্টুরেন্টে \"G...  __label__Not_Fake\n",
       "8330  #আনলিমিটেড_ভাত_ডাল_ভর্তা==১২০টাকা #৮আইটেম_এর_ভ...  __label__Not_Fake\n",
       "5531  বনশ্রী এবং আফতাবনগরবাসীর জন্য গেট-টুগেদার প্লে...  __label__Not_Fake"
      ],
      "text/html": [
       "<div>\n",
       "<style scoped>\n",
       "    .dataframe tbody tr th:only-of-type {\n",
       "        vertical-align: middle;\n",
       "    }\n",
       "\n",
       "    .dataframe tbody tr th {\n",
       "        vertical-align: top;\n",
       "    }\n",
       "\n",
       "    .dataframe thead th {\n",
       "        text-align: right;\n",
       "    }\n",
       "</style>\n",
       "<table border=\"1\" class=\"dataframe\">\n",
       "  <thead>\n",
       "    <tr style=\"text-align: right;\">\n",
       "      <th></th>\n",
       "      <th>Review</th>\n",
       "      <th>Label</th>\n",
       "    </tr>\n",
       "  </thead>\n",
       "  <tbody>\n",
       "    <tr>\n",
       "      <th>6242</th>\n",
       "      <td>Fried Rice with Chicken Tandoori - only 150/=ব...</td>\n",
       "      <td>__label__Not_Fake</td>\n",
       "    </tr>\n",
       "    <tr>\n",
       "      <th>6777</th>\n",
       "      <td>Mexican BBQ Rice BowlPlace: Mexican Spicy, শ্য...</td>\n",
       "      <td>__label__Not_Fake</td>\n",
       "    </tr>\n",
       "    <tr>\n",
       "      <th>1743</th>\n",
       "      <td>আজকে উত্তরা গ্রামের এক বিখ্যাত রেস্টুরেন্টে \"G...</td>\n",
       "      <td>__label__Not_Fake</td>\n",
       "    </tr>\n",
       "    <tr>\n",
       "      <th>8330</th>\n",
       "      <td>#আনলিমিটেড_ভাত_ডাল_ভর্তা==১২০টাকা #৮আইটেম_এর_ভ...</td>\n",
       "      <td>__label__Not_Fake</td>\n",
       "    </tr>\n",
       "    <tr>\n",
       "      <th>5531</th>\n",
       "      <td>বনশ্রী এবং আফতাবনগরবাসীর জন্য গেট-টুগেদার প্লে...</td>\n",
       "      <td>__label__Not_Fake</td>\n",
       "    </tr>\n",
       "  </tbody>\n",
       "</table>\n",
       "</div>"
      ]
     },
     "execution_count": 31,
     "metadata": {},
     "output_type": "execute_result"
    }
   ],
   "execution_count": 31
  },
  {
   "metadata": {
    "ExecuteTime": {
     "end_time": "2024-06-24T10:31:10.971Z",
     "start_time": "2024-06-24T10:31:10.932693Z"
    }
   },
   "cell_type": "code",
   "source": [
    "data[\"category_description\"] = data[\"Label\"] +\" \"+ data[\"Review\"]\n",
    "data.sample(5)"
   ],
   "id": "57d85a08d92ade76",
   "outputs": [
    {
     "data": {
      "text/plain": [
       "                                                 Review              Label  \\\n",
       "5241  East West University এর কাছেই খেতে গেলাম মজাদা...  __label__Not_Fake   \n",
       "934   #Owner post\\n#সম্মানিত ফুডিস\\n\"Gray olive cafe...      __label__Fake   \n",
       "702   পৃথিবীর সব সুখ এক দিকে \\nআর দুপুর বেলা Burgur ...      __label__Fake   \n",
       "3991  জীবনের প্রথম বার পরিবারকে নিয়ে এতো কম টাকায় উন...  __label__Not_Fake   \n",
       "4169  ঢাকা শহরের সব নামকরা খাবারের লিস্ট; দেখেন কোনট...  __label__Not_Fake   \n",
       "\n",
       "                                   category_description  \n",
       "5241  __label__Not_Fake East West University এর কাছে...  \n",
       "934   __label__Fake #Owner post\\n#সম্মানিত ফুডিস\\n\"G...  \n",
       "702   __label__Fake পৃথিবীর সব সুখ এক দিকে \\nআর দুপু...  \n",
       "3991  __label__Not_Fake জীবনের প্রথম বার পরিবারকে নি...  \n",
       "4169  __label__Not_Fake ঢাকা শহরের সব নামকরা খাবারের...  "
      ],
      "text/html": [
       "<div>\n",
       "<style scoped>\n",
       "    .dataframe tbody tr th:only-of-type {\n",
       "        vertical-align: middle;\n",
       "    }\n",
       "\n",
       "    .dataframe tbody tr th {\n",
       "        vertical-align: top;\n",
       "    }\n",
       "\n",
       "    .dataframe thead th {\n",
       "        text-align: right;\n",
       "    }\n",
       "</style>\n",
       "<table border=\"1\" class=\"dataframe\">\n",
       "  <thead>\n",
       "    <tr style=\"text-align: right;\">\n",
       "      <th></th>\n",
       "      <th>Review</th>\n",
       "      <th>Label</th>\n",
       "      <th>category_description</th>\n",
       "    </tr>\n",
       "  </thead>\n",
       "  <tbody>\n",
       "    <tr>\n",
       "      <th>5241</th>\n",
       "      <td>East West University এর কাছেই খেতে গেলাম মজাদা...</td>\n",
       "      <td>__label__Not_Fake</td>\n",
       "      <td>__label__Not_Fake East West University এর কাছে...</td>\n",
       "    </tr>\n",
       "    <tr>\n",
       "      <th>934</th>\n",
       "      <td>#Owner post\\n#সম্মানিত ফুডিস\\n\"Gray olive cafe...</td>\n",
       "      <td>__label__Fake</td>\n",
       "      <td>__label__Fake #Owner post\\n#সম্মানিত ফুডিস\\n\"G...</td>\n",
       "    </tr>\n",
       "    <tr>\n",
       "      <th>702</th>\n",
       "      <td>পৃথিবীর সব সুখ এক দিকে \\nআর দুপুর বেলা Burgur ...</td>\n",
       "      <td>__label__Fake</td>\n",
       "      <td>__label__Fake পৃথিবীর সব সুখ এক দিকে \\nআর দুপু...</td>\n",
       "    </tr>\n",
       "    <tr>\n",
       "      <th>3991</th>\n",
       "      <td>জীবনের প্রথম বার পরিবারকে নিয়ে এতো কম টাকায় উন...</td>\n",
       "      <td>__label__Not_Fake</td>\n",
       "      <td>__label__Not_Fake জীবনের প্রথম বার পরিবারকে নি...</td>\n",
       "    </tr>\n",
       "    <tr>\n",
       "      <th>4169</th>\n",
       "      <td>ঢাকা শহরের সব নামকরা খাবারের লিস্ট; দেখেন কোনট...</td>\n",
       "      <td>__label__Not_Fake</td>\n",
       "      <td>__label__Not_Fake ঢাকা শহরের সব নামকরা খাবারের...</td>\n",
       "    </tr>\n",
       "  </tbody>\n",
       "</table>\n",
       "</div>"
      ]
     },
     "execution_count": 32,
     "metadata": {},
     "output_type": "execute_result"
    }
   ],
   "execution_count": 32
  },
  {
   "metadata": {
    "ExecuteTime": {
     "end_time": "2024-06-24T10:31:12.958015Z",
     "start_time": "2024-06-24T10:31:12.951475Z"
    }
   },
   "cell_type": "code",
   "source": [
    "def preprocess(sentence):\n",
    "    sentence = re.sub(\"['।,]+\",' ',sentence)\n",
    "    sentence = re.sub(r'\\n', '', sentence)\n",
    "    sentence = re.sub(r'[ ]+', ' ', sentence)\n",
    "    return sentence.strip().lower()"
   ],
   "id": "d39c4727e9429006",
   "outputs": [],
   "execution_count": 33
  },
  {
   "metadata": {
    "ExecuteTime": {
     "end_time": "2024-06-24T10:31:16.697461Z",
     "start_time": "2024-06-24T10:31:15.968096Z"
    }
   },
   "cell_type": "code",
   "source": [
    "data.category_description = data.category_description.map(preprocess)\n",
    "data.sample(5)"
   ],
   "id": "a0e9cd48fe3d1f4c",
   "outputs": [
    {
     "data": {
      "text/plain": [
       "                                                 Review              Label  \\\n",
       "2300  ঈদ আর সাথে প্রচ্চুর বৃষ্টি!অলস অবসর কাটাতে চলল...  __label__Not_Fake   \n",
       "8     \"অনেক বছর ধরে বড়ই এর আচার খাই নাই.....যদিও এখন...      __label__Fake   \n",
       "6344  মনের শান্তি বড় শান্তি আর সেই শান্তি যদি হয় ভর...  __label__Not_Fake   \n",
       "108   Location : Crazy Butler (Satroja)        😍\\nIt...      __label__Fake   \n",
       "4843  #নেহারির_ভালোবাসাতে_আমি         মিয়া ভাই Miya ...  __label__Not_Fake   \n",
       "\n",
       "                                   category_description  \n",
       "2300  __label__not_fake ঈদ আর সাথে প্রচ্চুর বৃষ্টি!অ...  \n",
       "8     __label__fake \"অনেক বছর ধরে বড়ই এর আচার খাই না...  \n",
       "6344  __label__not_fake মনের শান্তি বড় শান্তি আর সে...  \n",
       "108   __label__fake location : crazy butler (satroja...  \n",
       "4843  __label__not_fake #নেহারির_ভালোবাসাতে_আমি মিয়া...  "
      ],
      "text/html": [
       "<div>\n",
       "<style scoped>\n",
       "    .dataframe tbody tr th:only-of-type {\n",
       "        vertical-align: middle;\n",
       "    }\n",
       "\n",
       "    .dataframe tbody tr th {\n",
       "        vertical-align: top;\n",
       "    }\n",
       "\n",
       "    .dataframe thead th {\n",
       "        text-align: right;\n",
       "    }\n",
       "</style>\n",
       "<table border=\"1\" class=\"dataframe\">\n",
       "  <thead>\n",
       "    <tr style=\"text-align: right;\">\n",
       "      <th></th>\n",
       "      <th>Review</th>\n",
       "      <th>Label</th>\n",
       "      <th>category_description</th>\n",
       "    </tr>\n",
       "  </thead>\n",
       "  <tbody>\n",
       "    <tr>\n",
       "      <th>2300</th>\n",
       "      <td>ঈদ আর সাথে প্রচ্চুর বৃষ্টি!অলস অবসর কাটাতে চলল...</td>\n",
       "      <td>__label__Not_Fake</td>\n",
       "      <td>__label__not_fake ঈদ আর সাথে প্রচ্চুর বৃষ্টি!অ...</td>\n",
       "    </tr>\n",
       "    <tr>\n",
       "      <th>8</th>\n",
       "      <td>\"অনেক বছর ধরে বড়ই এর আচার খাই নাই.....যদিও এখন...</td>\n",
       "      <td>__label__Fake</td>\n",
       "      <td>__label__fake \"অনেক বছর ধরে বড়ই এর আচার খাই না...</td>\n",
       "    </tr>\n",
       "    <tr>\n",
       "      <th>6344</th>\n",
       "      <td>মনের শান্তি বড় শান্তি আর সেই শান্তি যদি হয় ভর...</td>\n",
       "      <td>__label__Not_Fake</td>\n",
       "      <td>__label__not_fake মনের শান্তি বড় শান্তি আর সে...</td>\n",
       "    </tr>\n",
       "    <tr>\n",
       "      <th>108</th>\n",
       "      <td>Location : Crazy Butler (Satroja)        😍\\nIt...</td>\n",
       "      <td>__label__Fake</td>\n",
       "      <td>__label__fake location : crazy butler (satroja...</td>\n",
       "    </tr>\n",
       "    <tr>\n",
       "      <th>4843</th>\n",
       "      <td>#নেহারির_ভালোবাসাতে_আমি         মিয়া ভাই Miya ...</td>\n",
       "      <td>__label__Not_Fake</td>\n",
       "      <td>__label__not_fake #নেহারির_ভালোবাসাতে_আমি মিয়া...</td>\n",
       "    </tr>\n",
       "  </tbody>\n",
       "</table>\n",
       "</div>"
      ]
     },
     "execution_count": 34,
     "metadata": {},
     "output_type": "execute_result"
    }
   ],
   "execution_count": 34
  },
  {
   "metadata": {
    "ExecuteTime": {
     "end_time": "2024-06-24T10:31:22.587529Z",
     "start_time": "2024-06-24T10:31:22.578238Z"
    }
   },
   "cell_type": "code",
   "source": "train_set, test_set = train_test_split(data, test_size=0.2, random_state=42)",
   "id": "8bd0cd41e6b58402",
   "outputs": [],
   "execution_count": 35
  },
  {
   "metadata": {
    "ExecuteTime": {
     "end_time": "2024-06-24T10:31:26.217476Z",
     "start_time": "2024-06-24T10:31:26.204385Z"
    }
   },
   "cell_type": "code",
   "source": "train_set.category_description",
   "id": "eaf26966aeacf6f3",
   "outputs": [
    {
     "data": {
      "text/plain": [
       "8614    __label__not_fake #ধামাকা_অফার_৪#দ্যা_মুন_লাইট...\n",
       "5137    __label__not_fake পিৎজ্জা লাভারদের জন্য সুখবরই...\n",
       "9024    __label__not_fake ৩০০ টাকারসেট মেনু দুই জনেরটে...\n",
       "5072    __label__not_fake pizza মাস্তান https://www.fa...\n",
       "2807    __label__not_fake কলেজ থেকে আসার সময় pizzabur...\n",
       "                              ...                        \n",
       "5734    __label__not_fake বাই ১ গেট ১ বার্গার যখন মন খ...\n",
       "5191    __label__not_fake পুরান ঢাকার ঐতিহ্যবাহী খাবার...\n",
       "5390    __label__not_fake #foodreview#street_foodplace...\n",
       "860     __label__fake #brownie ❤ this fudgy brownie is...\n",
       "7270    __label__not_fake number one must try item che...\n",
       "Name: category_description, Length: 7239, dtype: object"
      ]
     },
     "execution_count": 36,
     "metadata": {},
     "output_type": "execute_result"
    }
   ],
   "execution_count": 36
  },
  {
   "metadata": {
    "ExecuteTime": {
     "end_time": "2024-06-24T10:31:30.165412Z",
     "start_time": "2024-06-24T10:31:29.879324Z"
    }
   },
   "cell_type": "code",
   "source": [
    "train_set.to_csv('food_review.train',columns=[\"category_description\"],index=False,header=False)\n",
    "test_set.to_csv('food_review.test',columns=[\"category_description\"],index=False,header=False)"
   ],
   "id": "e7935cef75ffff1a",
   "outputs": [],
   "execution_count": 37
  },
  {
   "metadata": {
    "ExecuteTime": {
     "end_time": "2024-06-24T10:31:37.535285Z",
     "start_time": "2024-06-24T10:31:36.619597Z"
    }
   },
   "cell_type": "code",
   "source": "model = fasttext.train_supervised(input='food_review.train')\n",
   "id": "adfa7f9952478ba",
   "outputs": [],
   "execution_count": 38
  },
  {
   "metadata": {
    "ExecuteTime": {
     "end_time": "2024-06-24T10:31:38.733037Z",
     "start_time": "2024-06-24T10:31:38.638879Z"
    }
   },
   "cell_type": "code",
   "source": "model.test(\"food_review.test\")",
   "id": "19755b97bf68b517",
   "outputs": [
    {
     "data": {
      "text/plain": [
       "(1610, 0.8875776397515528, 0.8875776397515528)"
      ]
     },
     "execution_count": 39,
     "metadata": {},
     "output_type": "execute_result"
    }
   ],
   "execution_count": 39
  },
  {
   "metadata": {
    "ExecuteTime": {
     "end_time": "2024-06-24T10:35:17.574511Z",
     "start_time": "2024-06-24T10:35:17.564049Z"
    }
   },
   "cell_type": "code",
   "source": "model.predict('''○বান্ধুবিরা মিলে অনেক দিন পর বের হয়েছিলাম রিক্সায় ঘুরতে কিন্তুু ওরা খালি চাস্ন থাকে treat জন্য আমার আবার সুন্দর সুন্দর sun glass পরতে অনেক ভাল লাগে নতুন একটা চশমা পরে আজকে বের হয়েছিলাম বান্ধুবিরাও বললো েতাকে মানাইসে treat বাহানা আর খুইজা না পাওয়ায় বলতাসে নতুন glass কিনসস সেই খুশিতে treat দে 😒 কি আর করার অই দিন ফুড ব্যাংকে burger fiesta review দেক্লাম খুব reasonable price তাদের ফুডের আর খাবারও মজা আগেও তাদের ফুড আমি test করেছি 😋then burger fiesta গেলাম আমরা অডার করেছিলাম naga wings 🍗naga wings টা খুবই ঝাল ঝাল আমার খুব মজা লাগে জারা ঝাল খেতে পারেন must be try করবেন and সাথে অবশ্যই cold coffee নিতে হবে তাহলে test টা আরও মজা লাগে 😋 i love this burger fiesta s french fry 🍟🧡তাদের french fry টা খুবই crispy হয় and last one chicken sandwich as a good test 🥪 1.naga wings 4 pics/🍗99 tk. 2.chicken sandwich 4 pics🥪/99 tk. 3.french fry /100 tk 🍟 4.cold coffee 70 tk🍹''')",
   "id": "49e6c9074674083e",
   "outputs": [
    {
     "data": {
      "text/plain": [
       "(('__label__not_fake',), array([0.73467517]))"
      ]
     },
     "execution_count": 46,
     "metadata": {},
     "output_type": "execute_result"
    }
   ],
   "execution_count": 46
  },
  {
   "metadata": {
    "ExecuteTime": {
     "end_time": "2024-06-24T10:31:58.388552Z",
     "start_time": "2024-06-24T10:31:57.645798Z"
    }
   },
   "cell_type": "code",
   "source": "model.save_model('bangla_food_review.model')",
   "id": "f8f52e539cdbce7a",
   "outputs": [],
   "execution_count": 41
  },
  {
   "metadata": {},
   "cell_type": "code",
   "outputs": [],
   "execution_count": null,
   "source": "",
   "id": "99da98344dda8a3e"
  }
 ],
 "metadata": {
  "kernelspec": {
   "display_name": "Python 3",
   "language": "python",
   "name": "python3"
  },
  "language_info": {
   "codemirror_mode": {
    "name": "ipython",
    "version": 2
   },
   "file_extension": ".py",
   "mimetype": "text/x-python",
   "name": "python",
   "nbconvert_exporter": "python",
   "pygments_lexer": "ipython2",
   "version": "2.7.6"
  }
 },
 "nbformat": 4,
 "nbformat_minor": 5
}
