{
 "cells": [
  {
   "cell_type": "code",
   "id": "initial_id",
   "metadata": {
    "collapsed": true,
    "ExecuteTime": {
     "end_time": "2024-06-28T14:51:56.621474Z",
     "start_time": "2024-06-28T14:51:44.755446Z"
    }
   },
   "source": [
    "import pandas as pd\n",
    "import numpy as np\n",
    "from matplotlib import pyplot as plt\n",
    "from sklearn.model_selection import train_test_split\n",
    "import fasttext\n",
    "import re"
   ],
   "outputs": [],
   "execution_count": 1
  },
  {
   "metadata": {
    "ExecuteTime": {
     "end_time": "2024-06-28T14:52:00.582903Z",
     "start_time": "2024-06-28T14:52:00.520709Z"
    }
   },
   "cell_type": "code",
   "source": [
    "fake = pd.read_csv('fake.csv')\n",
    "fake.shape"
   ],
   "id": "5fefbbba9083a3b0",
   "outputs": [
    {
     "data": {
      "text/plain": [
       "(1339, 2)"
      ]
     },
     "execution_count": 2,
     "metadata": {},
     "output_type": "execute_result"
    }
   ],
   "execution_count": 2
  },
  {
   "metadata": {
    "ExecuteTime": {
     "end_time": "2024-06-28T14:52:01.828536Z",
     "start_time": "2024-06-28T14:52:01.611246Z"
    }
   },
   "cell_type": "code",
   "source": [
    "non_fake = pd.read_csv('non-fake.csv')\n",
    "non_fake = non_fake.sample(n=2000,random_state=10)"
   ],
   "id": "2ee309e1a295b6b5",
   "outputs": [],
   "execution_count": 3
  },
  {
   "metadata": {
    "ExecuteTime": {
     "end_time": "2024-06-28T14:52:03.448868Z",
     "start_time": "2024-06-28T14:52:03.431845Z"
    }
   },
   "cell_type": "code",
   "source": [
    "dataset = pd.concat([fake,non_fake])\n",
    "dataset.sample(10)"
   ],
   "id": "13d9bc34753e5c9c",
   "outputs": [
    {
     "data": {
      "text/plain": [
       "                                                 Review  Label\n",
       "3863  পুরান ঢাকার গ্যান্ডারিয়াতে new একটা cafe হয়েছে...      1\n",
       "6369  স্থানঃ মল্লিক কাবাব ঘর (মিরপুর ১১)আইটেমঃ খিরি ...      1\n",
       "348   কি আর করা!বার বার যেতে হয় তোর মাজারে...... \\r\\...      0\n",
       "5623  Ramadan shashTai shash ifter o kora fellam.Pla...      1\n",
       "610   #DHAMAKA_OFFER \\r\\n২৫০ টাকার কালারফুল প্লেটার ...      0\n",
       "4942  ভালোবাসার কাচ্চি খুব খাচ্চি আরাম পাচ্চিসাথে না...      1\n",
       "455   গভীর রাতে স্বপ্নের উৎপাত! ভয়ংকর স্বপ্ন যাকে বল...      0\n",
       "72    OFFER-OFFER Realkhadok#Fish_&_Chips #300_𝘁𝗸(re...      0\n",
       "2637  #জীবন_আছে_যতদিন_খেয়ে_যাব_ততদিন        #Best_কা...      1\n",
       "704   পেইড রিভিউ সোদাও ক্যান ফইন্নি 😑 যে বালের কাচ্চ...      0"
      ],
      "text/html": [
       "<div>\n",
       "<style scoped>\n",
       "    .dataframe tbody tr th:only-of-type {\n",
       "        vertical-align: middle;\n",
       "    }\n",
       "\n",
       "    .dataframe tbody tr th {\n",
       "        vertical-align: top;\n",
       "    }\n",
       "\n",
       "    .dataframe thead th {\n",
       "        text-align: right;\n",
       "    }\n",
       "</style>\n",
       "<table border=\"1\" class=\"dataframe\">\n",
       "  <thead>\n",
       "    <tr style=\"text-align: right;\">\n",
       "      <th></th>\n",
       "      <th>Review</th>\n",
       "      <th>Label</th>\n",
       "    </tr>\n",
       "  </thead>\n",
       "  <tbody>\n",
       "    <tr>\n",
       "      <th>3863</th>\n",
       "      <td>পুরান ঢাকার গ্যান্ডারিয়াতে new একটা cafe হয়েছে...</td>\n",
       "      <td>1</td>\n",
       "    </tr>\n",
       "    <tr>\n",
       "      <th>6369</th>\n",
       "      <td>স্থানঃ মল্লিক কাবাব ঘর (মিরপুর ১১)আইটেমঃ খিরি ...</td>\n",
       "      <td>1</td>\n",
       "    </tr>\n",
       "    <tr>\n",
       "      <th>348</th>\n",
       "      <td>কি আর করা!বার বার যেতে হয় তোর মাজারে...... \\r\\...</td>\n",
       "      <td>0</td>\n",
       "    </tr>\n",
       "    <tr>\n",
       "      <th>5623</th>\n",
       "      <td>Ramadan shashTai shash ifter o kora fellam.Pla...</td>\n",
       "      <td>1</td>\n",
       "    </tr>\n",
       "    <tr>\n",
       "      <th>610</th>\n",
       "      <td>#DHAMAKA_OFFER \\r\\n২৫০ টাকার কালারফুল প্লেটার ...</td>\n",
       "      <td>0</td>\n",
       "    </tr>\n",
       "    <tr>\n",
       "      <th>4942</th>\n",
       "      <td>ভালোবাসার কাচ্চি খুব খাচ্চি আরাম পাচ্চিসাথে না...</td>\n",
       "      <td>1</td>\n",
       "    </tr>\n",
       "    <tr>\n",
       "      <th>455</th>\n",
       "      <td>গভীর রাতে স্বপ্নের উৎপাত! ভয়ংকর স্বপ্ন যাকে বল...</td>\n",
       "      <td>0</td>\n",
       "    </tr>\n",
       "    <tr>\n",
       "      <th>72</th>\n",
       "      <td>OFFER-OFFER Realkhadok#Fish_&amp;_Chips #300_𝘁𝗸(re...</td>\n",
       "      <td>0</td>\n",
       "    </tr>\n",
       "    <tr>\n",
       "      <th>2637</th>\n",
       "      <td>#জীবন_আছে_যতদিন_খেয়ে_যাব_ততদিন        #Best_কা...</td>\n",
       "      <td>1</td>\n",
       "    </tr>\n",
       "    <tr>\n",
       "      <th>704</th>\n",
       "      <td>পেইড রিভিউ সোদাও ক্যান ফইন্নি 😑 যে বালের কাচ্চ...</td>\n",
       "      <td>0</td>\n",
       "    </tr>\n",
       "  </tbody>\n",
       "</table>\n",
       "</div>"
      ]
     },
     "execution_count": 4,
     "metadata": {},
     "output_type": "execute_result"
    }
   ],
   "execution_count": 4
  },
  {
   "metadata": {
    "ExecuteTime": {
     "end_time": "2024-06-28T14:52:08.464519Z",
     "start_time": "2024-06-28T14:52:08.332949Z"
    }
   },
   "cell_type": "code",
   "source": "dataset.to_csv('bangla_food_review.csv',index=False)",
   "id": "d0e147fb85e5438a",
   "outputs": [],
   "execution_count": 5
  },
  {
   "metadata": {
    "ExecuteTime": {
     "end_time": "2024-06-28T14:52:09.534760Z",
     "start_time": "2024-06-28T14:52:09.440811Z"
    }
   },
   "cell_type": "code",
   "source": [
    "data = pd.read_csv('bangla_food_review.csv')\n",
    "data.sample(5)"
   ],
   "id": "ad8a6d2cd139f9f7",
   "outputs": [
    {
     "data": {
      "text/plain": [
       "                                                 Review  Label\n",
       "2717  #২০০_টাকাতে_খিচুড়ি_কালো_ভুনা                #...      1\n",
       "1097  স্থানঃ TFC(The food Company) \\r\\nআইটেম নাম: \\r...      0\n",
       "38    #Offer_Offer_Offer\\r\\nOVEN BAKED PASTA \\r\\nBuy...      0\n",
       "3323  RoadSide Kitchen এর পুরো থিম টাই চমকপ্রদ, অবস্...      1\n",
       "1442  ঠান্ডা ঠান্ডা weather তাও আবার ছুটির দিন!তাই ভ...      1"
      ],
      "text/html": [
       "<div>\n",
       "<style scoped>\n",
       "    .dataframe tbody tr th:only-of-type {\n",
       "        vertical-align: middle;\n",
       "    }\n",
       "\n",
       "    .dataframe tbody tr th {\n",
       "        vertical-align: top;\n",
       "    }\n",
       "\n",
       "    .dataframe thead th {\n",
       "        text-align: right;\n",
       "    }\n",
       "</style>\n",
       "<table border=\"1\" class=\"dataframe\">\n",
       "  <thead>\n",
       "    <tr style=\"text-align: right;\">\n",
       "      <th></th>\n",
       "      <th>Review</th>\n",
       "      <th>Label</th>\n",
       "    </tr>\n",
       "  </thead>\n",
       "  <tbody>\n",
       "    <tr>\n",
       "      <th>2717</th>\n",
       "      <td>#২০০_টাকাতে_খিচুড়ি_কালো_ভুনা                #...</td>\n",
       "      <td>1</td>\n",
       "    </tr>\n",
       "    <tr>\n",
       "      <th>1097</th>\n",
       "      <td>স্থানঃ TFC(The food Company) \\r\\nআইটেম নাম: \\r...</td>\n",
       "      <td>0</td>\n",
       "    </tr>\n",
       "    <tr>\n",
       "      <th>38</th>\n",
       "      <td>#Offer_Offer_Offer\\r\\nOVEN BAKED PASTA \\r\\nBuy...</td>\n",
       "      <td>0</td>\n",
       "    </tr>\n",
       "    <tr>\n",
       "      <th>3323</th>\n",
       "      <td>RoadSide Kitchen এর পুরো থিম টাই চমকপ্রদ, অবস্...</td>\n",
       "      <td>1</td>\n",
       "    </tr>\n",
       "    <tr>\n",
       "      <th>1442</th>\n",
       "      <td>ঠান্ডা ঠান্ডা weather তাও আবার ছুটির দিন!তাই ভ...</td>\n",
       "      <td>1</td>\n",
       "    </tr>\n",
       "  </tbody>\n",
       "</table>\n",
       "</div>"
      ]
     },
     "execution_count": 6,
     "metadata": {},
     "output_type": "execute_result"
    }
   ],
   "execution_count": 6
  },
  {
   "metadata": {
    "ExecuteTime": {
     "end_time": "2024-06-28T14:52:12.070568Z",
     "start_time": "2024-06-28T14:52:12.063631Z"
    }
   },
   "cell_type": "code",
   "source": [
    "data.dropna(inplace=True)\n",
    "data.shape"
   ],
   "id": "89308a11be86fac2",
   "outputs": [
    {
     "data": {
      "text/plain": [
       "(3339, 2)"
      ]
     },
     "execution_count": 7,
     "metadata": {},
     "output_type": "execute_result"
    }
   ],
   "execution_count": 7
  },
  {
   "metadata": {
    "ExecuteTime": {
     "end_time": "2024-06-28T14:52:14.039739Z",
     "start_time": "2024-06-28T14:52:14.029001Z"
    }
   },
   "cell_type": "code",
   "source": [
    "data.Label.replace(1,\"Not_Fake\",inplace=True)\n",
    "data.Label.replace(0,\"Fake\",inplace=True)\n",
    "data.sample(5)"
   ],
   "id": "5fc0840bcaa4e9e2",
   "outputs": [
    {
     "data": {
      "text/plain": [
       "                                                 Review     Label\n",
       "1404  ফ্যামিলি অরিয়েন্টেড প্লেস এর সাথে ফ্যামিলি প্ল...  Not_Fake\n",
       "2510  #বারগার_প্লেটার_বিবরণ #roadside_kitchen বারগার...  Not_Fake\n",
       "3166  জীবনের সেরা নাগা খেলাম আজ#_নাগা_খাওয়ার_পরে_কি_...  Not_Fake\n",
       "2649  শহরের কোলাহল থেকে পালিয়ে একদিনের জন্য ঘুরে আস...  Not_Fake\n",
       "194   আসসালামু আলাইকুম সবাইকে ❤️\\r\\nঅনেকেই বলেছিলেন ...      Fake"
      ],
      "text/html": [
       "<div>\n",
       "<style scoped>\n",
       "    .dataframe tbody tr th:only-of-type {\n",
       "        vertical-align: middle;\n",
       "    }\n",
       "\n",
       "    .dataframe tbody tr th {\n",
       "        vertical-align: top;\n",
       "    }\n",
       "\n",
       "    .dataframe thead th {\n",
       "        text-align: right;\n",
       "    }\n",
       "</style>\n",
       "<table border=\"1\" class=\"dataframe\">\n",
       "  <thead>\n",
       "    <tr style=\"text-align: right;\">\n",
       "      <th></th>\n",
       "      <th>Review</th>\n",
       "      <th>Label</th>\n",
       "    </tr>\n",
       "  </thead>\n",
       "  <tbody>\n",
       "    <tr>\n",
       "      <th>1404</th>\n",
       "      <td>ফ্যামিলি অরিয়েন্টেড প্লেস এর সাথে ফ্যামিলি প্ল...</td>\n",
       "      <td>Not_Fake</td>\n",
       "    </tr>\n",
       "    <tr>\n",
       "      <th>2510</th>\n",
       "      <td>#বারগার_প্লেটার_বিবরণ #roadside_kitchen বারগার...</td>\n",
       "      <td>Not_Fake</td>\n",
       "    </tr>\n",
       "    <tr>\n",
       "      <th>3166</th>\n",
       "      <td>জীবনের সেরা নাগা খেলাম আজ#_নাগা_খাওয়ার_পরে_কি_...</td>\n",
       "      <td>Not_Fake</td>\n",
       "    </tr>\n",
       "    <tr>\n",
       "      <th>2649</th>\n",
       "      <td>শহরের কোলাহল থেকে পালিয়ে একদিনের জন্য ঘুরে আস...</td>\n",
       "      <td>Not_Fake</td>\n",
       "    </tr>\n",
       "    <tr>\n",
       "      <th>194</th>\n",
       "      <td>আসসালামু আলাইকুম সবাইকে ❤️\\r\\nঅনেকেই বলেছিলেন ...</td>\n",
       "      <td>Fake</td>\n",
       "    </tr>\n",
       "  </tbody>\n",
       "</table>\n",
       "</div>"
      ]
     },
     "execution_count": 8,
     "metadata": {},
     "output_type": "execute_result"
    }
   ],
   "execution_count": 8
  },
  {
   "metadata": {
    "ExecuteTime": {
     "end_time": "2024-06-28T14:52:15.600702Z",
     "start_time": "2024-06-28T14:52:15.591783Z"
    }
   },
   "cell_type": "code",
   "source": [
    "data[\"Label\"] = \"__label__\" + data[\"Label\"].astype(str)\n",
    "data.sample(5)"
   ],
   "id": "e44e01248be57a43",
   "outputs": [
    {
     "data": {
      "text/plain": [
       "                                                 Review              Label\n",
       "675   Pizza review 😍\\r\\nPlace : Backyard kitchen\\r\\n...      __label__Fake\n",
       "268   এও কি সম্ভব???\\r\\nমাত্র ১৩০/= আপনি পাচ্ছেন একট...      __label__Fake\n",
       "963   #যাহার_পরাণ_মাএ_২০০_টাকায়_খিচুড়ি_নাহি_চায়🙄\\r\\...      __label__Fake\n",
       "1270  ৭৯৯ টাকায় বিফ সিজলিং থেকে শুরু করে টেবিল ভর্তি...      __label__Fake\n",
       "2623  একজনের রিভিউ দেখে গেলাম মিরপুর বাসা থেকে একটু ...  __label__Not_Fake"
      ],
      "text/html": [
       "<div>\n",
       "<style scoped>\n",
       "    .dataframe tbody tr th:only-of-type {\n",
       "        vertical-align: middle;\n",
       "    }\n",
       "\n",
       "    .dataframe tbody tr th {\n",
       "        vertical-align: top;\n",
       "    }\n",
       "\n",
       "    .dataframe thead th {\n",
       "        text-align: right;\n",
       "    }\n",
       "</style>\n",
       "<table border=\"1\" class=\"dataframe\">\n",
       "  <thead>\n",
       "    <tr style=\"text-align: right;\">\n",
       "      <th></th>\n",
       "      <th>Review</th>\n",
       "      <th>Label</th>\n",
       "    </tr>\n",
       "  </thead>\n",
       "  <tbody>\n",
       "    <tr>\n",
       "      <th>675</th>\n",
       "      <td>Pizza review 😍\\r\\nPlace : Backyard kitchen\\r\\n...</td>\n",
       "      <td>__label__Fake</td>\n",
       "    </tr>\n",
       "    <tr>\n",
       "      <th>268</th>\n",
       "      <td>এও কি সম্ভব???\\r\\nমাত্র ১৩০/= আপনি পাচ্ছেন একট...</td>\n",
       "      <td>__label__Fake</td>\n",
       "    </tr>\n",
       "    <tr>\n",
       "      <th>963</th>\n",
       "      <td>#যাহার_পরাণ_মাএ_২০০_টাকায়_খিচুড়ি_নাহি_চায়🙄\\r\\...</td>\n",
       "      <td>__label__Fake</td>\n",
       "    </tr>\n",
       "    <tr>\n",
       "      <th>1270</th>\n",
       "      <td>৭৯৯ টাকায় বিফ সিজলিং থেকে শুরু করে টেবিল ভর্তি...</td>\n",
       "      <td>__label__Fake</td>\n",
       "    </tr>\n",
       "    <tr>\n",
       "      <th>2623</th>\n",
       "      <td>একজনের রিভিউ দেখে গেলাম মিরপুর বাসা থেকে একটু ...</td>\n",
       "      <td>__label__Not_Fake</td>\n",
       "    </tr>\n",
       "  </tbody>\n",
       "</table>\n",
       "</div>"
      ]
     },
     "execution_count": 9,
     "metadata": {},
     "output_type": "execute_result"
    }
   ],
   "execution_count": 9
  },
  {
   "metadata": {
    "ExecuteTime": {
     "end_time": "2024-06-28T14:52:16.964814Z",
     "start_time": "2024-06-28T14:52:16.947774Z"
    }
   },
   "cell_type": "code",
   "source": [
    "data[\"category_description\"] = data[\"Label\"] +\" \"+ data[\"Review\"]\n",
    "data.sample(5)"
   ],
   "id": "57d85a08d92ade76",
   "outputs": [
    {
     "data": {
      "text/plain": [
       "                                                 Review              Label  \\\n",
       "590   #The chillux. \\r\\nশীতকালীন অফার হিসবে The  Chi...      __label__Fake   \n",
       "332   🦀 Oshi Sushis  - good food you got 🦀\\r\\nThey a...      __label__Fake   \n",
       "1056  Happy New Year 2020\\r\\nসম্মানিত ভোজনরসিক অতিথি...      __label__Fake   \n",
       "3021  পুরান ঢাকায় সকাল সকাল নাস্তা করতে চলে গেলাম বি...  __label__Not_Fake   \n",
       "2616  পূর্বাচলের দিকে যাওয়া হয়না অনেকদিন ! হঠাৎ করেই...  __label__Not_Fake   \n",
       "\n",
       "                                   category_description  \n",
       "590   __label__Fake #The chillux. \\r\\nশীতকালীন অফার ...  \n",
       "332   __label__Fake 🦀 Oshi Sushis  - good food you g...  \n",
       "1056  __label__Fake Happy New Year 2020\\r\\nসম্মানিত ...  \n",
       "3021  __label__Not_Fake পুরান ঢাকায় সকাল সকাল নাস্তা...  \n",
       "2616  __label__Not_Fake পূর্বাচলের দিকে যাওয়া হয়না অ...  "
      ],
      "text/html": [
       "<div>\n",
       "<style scoped>\n",
       "    .dataframe tbody tr th:only-of-type {\n",
       "        vertical-align: middle;\n",
       "    }\n",
       "\n",
       "    .dataframe tbody tr th {\n",
       "        vertical-align: top;\n",
       "    }\n",
       "\n",
       "    .dataframe thead th {\n",
       "        text-align: right;\n",
       "    }\n",
       "</style>\n",
       "<table border=\"1\" class=\"dataframe\">\n",
       "  <thead>\n",
       "    <tr style=\"text-align: right;\">\n",
       "      <th></th>\n",
       "      <th>Review</th>\n",
       "      <th>Label</th>\n",
       "      <th>category_description</th>\n",
       "    </tr>\n",
       "  </thead>\n",
       "  <tbody>\n",
       "    <tr>\n",
       "      <th>590</th>\n",
       "      <td>#The chillux. \\r\\nশীতকালীন অফার হিসবে The  Chi...</td>\n",
       "      <td>__label__Fake</td>\n",
       "      <td>__label__Fake #The chillux. \\r\\nশীতকালীন অফার ...</td>\n",
       "    </tr>\n",
       "    <tr>\n",
       "      <th>332</th>\n",
       "      <td>🦀 Oshi Sushis  - good food you got 🦀\\r\\nThey a...</td>\n",
       "      <td>__label__Fake</td>\n",
       "      <td>__label__Fake 🦀 Oshi Sushis  - good food you g...</td>\n",
       "    </tr>\n",
       "    <tr>\n",
       "      <th>1056</th>\n",
       "      <td>Happy New Year 2020\\r\\nসম্মানিত ভোজনরসিক অতিথি...</td>\n",
       "      <td>__label__Fake</td>\n",
       "      <td>__label__Fake Happy New Year 2020\\r\\nসম্মানিত ...</td>\n",
       "    </tr>\n",
       "    <tr>\n",
       "      <th>3021</th>\n",
       "      <td>পুরান ঢাকায় সকাল সকাল নাস্তা করতে চলে গেলাম বি...</td>\n",
       "      <td>__label__Not_Fake</td>\n",
       "      <td>__label__Not_Fake পুরান ঢাকায় সকাল সকাল নাস্তা...</td>\n",
       "    </tr>\n",
       "    <tr>\n",
       "      <th>2616</th>\n",
       "      <td>পূর্বাচলের দিকে যাওয়া হয়না অনেকদিন ! হঠাৎ করেই...</td>\n",
       "      <td>__label__Not_Fake</td>\n",
       "      <td>__label__Not_Fake পূর্বাচলের দিকে যাওয়া হয়না অ...</td>\n",
       "    </tr>\n",
       "  </tbody>\n",
       "</table>\n",
       "</div>"
      ]
     },
     "execution_count": 10,
     "metadata": {},
     "output_type": "execute_result"
    }
   ],
   "execution_count": 10
  },
  {
   "metadata": {
    "ExecuteTime": {
     "end_time": "2024-06-28T14:52:19.758074Z",
     "start_time": "2024-06-28T14:52:19.754423Z"
    }
   },
   "cell_type": "code",
   "source": [
    "def preprocess(sentence):\n",
    "    sentence = re.sub(\"['।,]+\",' ',sentence)\n",
    "    sentence = re.sub(r'\\n', ' ', sentence)\n",
    "    sentence = re.sub(r'[ ]+', ' ', sentence)\n",
    "    return sentence.strip().lower()"
   ],
   "id": "d39c4727e9429006",
   "outputs": [],
   "execution_count": 11
  },
  {
   "metadata": {
    "ExecuteTime": {
     "end_time": "2024-06-28T14:52:20.947592Z",
     "start_time": "2024-06-28T14:52:20.681395Z"
    }
   },
   "cell_type": "code",
   "source": [
    "data.category_description = data.category_description.map(preprocess)\n",
    "data.sample(5)\n",
    "data.to_csv(\"food_review_after_preprocessing.csv\",index=False)"
   ],
   "id": "a0e9cd48fe3d1f4c",
   "outputs": [],
   "execution_count": 12
  },
  {
   "metadata": {
    "ExecuteTime": {
     "end_time": "2024-06-28T14:52:21.807914Z",
     "start_time": "2024-06-28T14:52:21.802318Z"
    }
   },
   "cell_type": "code",
   "source": "data.category_description",
   "id": "d28c356f0b86eb32",
   "outputs": [
    {
     "data": {
      "text/plain": [
       "0       __label__fake buy one get one mexican পাস্তা \\...\n",
       "1       __label__fake #review দেখে গেছিলাম\\r ভাবতেই অব...\n",
       "2       __label__fake #partner_platter ❤\\r #বিগ_বাইট র...\n",
       "3       __label__fake অথেনটিক পিজ্জা খেতে চাইলে এইটা ম...\n",
       "4       __label__fake অনলি ফর ইউনিভার্সিটি কাপল স্টুডে...\n",
       "                              ...                        \n",
       "3334    __label__not_fake টেবিল ভর্তি খাবার দেখে চলে গ...\n",
       "3335    __label__not_fake আহারে ভেলপুড়ি এক এর পর এক প...\n",
       "3336    __label__not_fake আরাবিয়ান ফাস্টফুড ধানমন্ডির ...\n",
       "3337    __label__not_fake বর্তমান সময়ের সেরা কাচ্চির ক...\n",
       "3338    __label__not_fake আবার ফিরে যেতে হলো বানকার্স ...\n",
       "Name: category_description, Length: 3339, dtype: object"
      ]
     },
     "execution_count": 13,
     "metadata": {},
     "output_type": "execute_result"
    }
   ],
   "execution_count": 13
  },
  {
   "metadata": {
    "ExecuteTime": {
     "end_time": "2024-06-28T14:52:23.639742Z",
     "start_time": "2024-06-28T14:52:23.634496Z"
    }
   },
   "cell_type": "code",
   "source": "train_set, test_set = train_test_split(data, test_size=0.2, random_state=42)",
   "id": "8bd0cd41e6b58402",
   "outputs": [],
   "execution_count": 14
  },
  {
   "metadata": {
    "ExecuteTime": {
     "end_time": "2024-06-28T14:52:24.313230Z",
     "start_time": "2024-06-28T14:52:24.305469Z"
    }
   },
   "cell_type": "code",
   "source": "train_set.category_description",
   "id": "eaf26966aeacf6f3",
   "outputs": [
    {
     "data": {
      "text/plain": [
       "3255    __label__not_fake the pabulum #a_great_initiat...\n",
       "2009    __label__not_fake #৯৯৳তান্দুরী আস্ত একটা মুরগি...\n",
       "712                            __label__fake #paid review\n",
       "2861    __label__not_fake কাচ্চি লাভারদের জন্য বর্তমান...\n",
       "1506    __label__not_fake #১২১টাকা নাকি #২৬টাকা#২৬শে_ম...\n",
       "                              ...                        \n",
       "1095    __label__fake place: রাজমহল ফুডকোর্ট \\r price:...\n",
       "1130    __label__fake হ্যালো ভোজন প্রিয় নারায়ণগঞ্জ বা...\n",
       "1294    __label__fake আচ্ছা! বাম চোখ লাফালে কি বিপদ আস...\n",
       "860     __label__fake #brownie ❤ \\r this fudgy brownie...\n",
       "3174    __label__not_fake আনন্দময় ঈদের কাছাকাছি সময়ে র...\n",
       "Name: category_description, Length: 2671, dtype: object"
      ]
     },
     "execution_count": 15,
     "metadata": {},
     "output_type": "execute_result"
    }
   ],
   "execution_count": 15
  },
  {
   "metadata": {
    "ExecuteTime": {
     "end_time": "2024-06-28T14:52:25.181110Z",
     "start_time": "2024-06-28T14:52:25.112534Z"
    }
   },
   "cell_type": "code",
   "source": [
    "train_set.to_csv('food_review.train',columns=[\"category_description\"],index=False,header=False)\n",
    "test_set.to_csv('food_review.test',columns=[\"category_description\"],index=False,header=False)"
   ],
   "id": "e7935cef75ffff1a",
   "outputs": [],
   "execution_count": 16
  },
  {
   "metadata": {
    "ExecuteTime": {
     "end_time": "2024-06-28T14:52:26.538306Z",
     "start_time": "2024-06-28T14:52:26.294041Z"
    }
   },
   "cell_type": "code",
   "source": "model = fasttext.train_supervised(input='food_review.train')\n",
   "id": "adfa7f9952478ba",
   "outputs": [],
   "execution_count": 17
  },
  {
   "metadata": {
    "ExecuteTime": {
     "end_time": "2024-06-28T14:52:27.163625Z",
     "start_time": "2024-06-28T14:52:27.135436Z"
    }
   },
   "cell_type": "code",
   "source": "model.test(\"food_review.test\")",
   "id": "19755b97bf68b517",
   "outputs": [
    {
     "data": {
      "text/plain": [
       "(351, 0.9772079772079773, 0.9772079772079773)"
      ]
     },
     "execution_count": 18,
     "metadata": {},
     "output_type": "execute_result"
    }
   ],
   "execution_count": 18
  },
  {
   "metadata": {
    "ExecuteTime": {
     "end_time": "2024-06-28T14:52:31.368346Z",
     "start_time": "2024-06-28T14:52:31.355388Z"
    }
   },
   "cell_type": "code",
   "source": [
    "# Step 2: Load the test data\n",
    "test_data = []\n",
    "with open('food_review.test', 'r', encoding='utf-8', errors='replace') as f:\n",
    "    for line in f:\n",
    "        if ' ' in line:  # Check if there is at least one space in the line\n",
    "            label, text = line.split(' ', 1)\n",
    "            test_data.append((label.strip(), text.strip()))\n",
    "        else:\n",
    "            print(f\"Skipping line due to missing label/text: {line.strip()}\")"
   ],
   "id": "fe7d1d0c67b77e8e",
   "outputs": [],
   "execution_count": 19
  },
  {
   "metadata": {
    "ExecuteTime": {
     "end_time": "2024-06-28T14:52:32.235936Z",
     "start_time": "2024-06-28T14:52:32.186958Z"
    }
   },
   "cell_type": "code",
   "source": [
    "# Step 3: Get predictions and compare with actual labels\n",
    "true_negatives = []\n",
    "true_positives = []\n",
    "false_negatives = []\n",
    "false_positives = []\n",
    "\n",
    "for label, text in test_data:\n",
    "    prediction = model.predict(text)[0][0]  # Get the predicted label\n",
    "    \n",
    "    if label == \"__label__not_fake\" and prediction == \"__label__not_fake\":\n",
    "        true_negatives.append((label, text))\n",
    "    elif label == \"__label__fake\" and prediction == \"__label__fake\":\n",
    "        true_positives.append((label, text))\n",
    "    elif label == \"__label__fake\" and prediction == \"__label__not_fake\":\n",
    "        false_negatives.append((label, text))\n",
    "    elif label == \"__label__not_fake\" and prediction == \"__label__fake\":\n",
    "        false_positives.append((label, text))\n"
   ],
   "id": "3e92a07cdec8a399",
   "outputs": [],
   "execution_count": 20
  },
  {
   "metadata": {
    "ExecuteTime": {
     "end_time": "2024-06-28T14:52:33.401685Z",
     "start_time": "2024-06-28T14:52:33.394126Z"
    }
   },
   "cell_type": "code",
   "source": "model.predict('''○বান্ধুবিরা মিলে অনেক দিন পর বের হয়েছিলাম রিক্সায় ঘুরতে কিন্তুু ওরা খালি চাস্ন থাকে treat জন্য আমার আবার সুন্দর সুন্দর sun glass পরতে অনেক ভাল লাগে নতুন একটা চশমা পরে আজকে বের হয়েছিলাম বান্ধুবিরাও বললো েতাকে মানাইসে treat বাহানা আর খুইজা না পাওয়ায় বলতাসে নতুন glass কিনসস সেই খুশিতে treat দে 😒 কি আর করার অই দিন ফুড ব্যাংকে burger fiesta review দেক্লাম খুব reasonable price তাদের ফুডের আর খাবারও মজা আগেও তাদের ফুড আমি test করেছি 😋then burger fiesta গেলাম আমরা অডার করেছিলাম naga wings 🍗naga wings টা খুবই ঝাল ঝাল আমার খুব মজা লাগে জারা ঝাল খেতে পারেন must be try করবেন and সাথে অবশ্যই cold coffee নিতে হবে তাহলে test টা আরও মজা লাগে 😋 i love this burger fiesta s french fry 🍟🧡তাদের french fry টা খুবই crispy হয় and last one chicken sandwich as a good test 🥪 1.naga wings 4 pics/🍗99 tk. 2.chicken sandwich 4 pics🥪/99 tk. 3.french fry /100 tk 🍟 4.cold coffee 70 tk🍹''')",
   "id": "49e6c9074674083e",
   "outputs": [
    {
     "data": {
      "text/plain": [
       "(('__label__not_fake',), array([0.91422081]))"
      ]
     },
     "execution_count": 21,
     "metadata": {},
     "output_type": "execute_result"
    }
   ],
   "execution_count": 21
  },
  {
   "metadata": {
    "ExecuteTime": {
     "end_time": "2024-06-28T14:52:34.465433Z",
     "start_time": "2024-06-28T14:52:34.459373Z"
    }
   },
   "cell_type": "code",
   "source": "model.predict('''অথেনটিক পিজ্জা খেতে চাইলে এইটা মাস্ট ট্রাই ❤️ ৪৯ টাকার অফার পিজ্জা খেতে গেছিলাম Pizza Station এ। অফার শেষ, তাই ভাবলাম এসেছি একটা পিজ্জা ট্রাই করেই যাই। অর্ডার করলাম তাদের Beef Supreme নামের পিজ্জাটা। আমার খাওয়া সেরা পিজ্জা গুলোর মধ্যে এইটা একটা। থিন ক্রাস্ট, হালকা চিজ আর উপরে বিফ কিমার টপিং। পুরাই প্রিমিয়াম একটা পিজ্জার ফিল দেয়। বিফ কিমায় হালকা নোনতা ও গোলমরিচ এর স্বাদ আর সাথে দেওয়া মেয়নিসের হালকা মিষ্টি একদম পারফেক্ট ব্যালেন্স। বেশ দারুন লাগে খেতে। যাদের একদম চিজে মাখামাখি পিজ্জা ভালো লাগে না, তারা Pizza Station এর পিজ্জা একবার ট্রাই করে দেখতে পারেন ❤️ দাম: ৪৯০ টাকা (১২\") রেটিং: ৯/১০''')",
   "id": "20ab9fa56b37f9bd",
   "outputs": [
    {
     "data": {
      "text/plain": [
       "(('__label__not_fake',), array([0.97985798]))"
      ]
     },
     "execution_count": 22,
     "metadata": {},
     "output_type": "execute_result"
    }
   ],
   "execution_count": 22
  },
  {
   "metadata": {
    "ExecuteTime": {
     "end_time": "2024-06-27T20:45:50.613098Z",
     "start_time": "2024-06-27T20:45:50.562912Z"
    }
   },
   "cell_type": "code",
   "source": "model.save_model('bangla_food_review.model')",
   "id": "f8f52e539cdbce7a",
   "outputs": [],
   "execution_count": 19
  },
  {
   "metadata": {},
   "cell_type": "code",
   "outputs": [],
   "execution_count": null,
   "source": "",
   "id": "99da98344dda8a3e"
  }
 ],
 "metadata": {
  "kernelspec": {
   "display_name": "Python 3",
   "language": "python",
   "name": "python3"
  },
  "language_info": {
   "codemirror_mode": {
    "name": "ipython",
    "version": 2
   },
   "file_extension": ".py",
   "mimetype": "text/x-python",
   "name": "python",
   "nbconvert_exporter": "python",
   "pygments_lexer": "ipython2",
   "version": "2.7.6"
  }
 },
 "nbformat": 4,
 "nbformat_minor": 5
}
