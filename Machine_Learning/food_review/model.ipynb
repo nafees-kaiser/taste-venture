{
 "cells": [
  {
   "cell_type": "code",
   "id": "initial_id",
   "metadata": {
    "collapsed": true,
    "ExecuteTime": {
     "end_time": "2024-07-11T05:01:53.202305Z",
     "start_time": "2024-07-11T05:01:41.768101Z"
    }
   },
   "source": [
    "import pandas as pd\n",
    "import numpy as np\n",
    "from matplotlib import pyplot as plt\n",
    "from sklearn.model_selection import train_test_split\n",
    "import fasttext\n",
    "import re"
   ],
   "outputs": [],
   "execution_count": 1
  },
  {
   "metadata": {
    "ExecuteTime": {
     "end_time": "2024-07-11T05:02:18.602550Z",
     "start_time": "2024-07-11T05:02:18.545611Z"
    }
   },
   "cell_type": "code",
   "source": [
    "fake = pd.read_csv('fake.csv')\n",
    "fake.shape"
   ],
   "id": "5fefbbba9083a3b0",
   "outputs": [
    {
     "data": {
      "text/plain": [
       "(1339, 2)"
      ]
     },
     "execution_count": 2,
     "metadata": {},
     "output_type": "execute_result"
    }
   ],
   "execution_count": 2
  },
  {
   "metadata": {
    "ExecuteTime": {
     "end_time": "2024-07-11T05:02:20.527598Z",
     "start_time": "2024-07-11T05:02:20.349391Z"
    }
   },
   "cell_type": "code",
   "source": [
    "non_fake = pd.read_csv('non-fake.csv')\n",
    "non_fake = non_fake.sample(n=2000,random_state=10)"
   ],
   "id": "2ee309e1a295b6b5",
   "outputs": [],
   "execution_count": 3
  },
  {
   "metadata": {
    "ExecuteTime": {
     "end_time": "2024-07-11T05:02:29.870002Z",
     "start_time": "2024-07-11T05:02:29.856572Z"
    }
   },
   "cell_type": "code",
   "source": [
    "dataset = pd.concat([fake,non_fake])\n",
    "dataset.sample(10)"
   ],
   "id": "13d9bc34753e5c9c",
   "outputs": [
    {
     "data": {
      "text/plain": [
       "                                                 Review  Label\n",
       "6903  ৮০ টাকায় ২ টা বার্গারলকডাউনের দিন শেষ,স্কুল/কল...      1\n",
       "3867  পুরান ঢাকার নাজিরাবাজার গিয়ে এই আইসক্রিম যদি ন...      1\n",
       "2094  খুব ই সুন্দর ইন্টেরিয়র  নিয়ে দক্ষিণ বনশ্রী ত...      1\n",
       "7125  #খাট্টামিঠা_ফুচকা বেশ কিছু মাস আগে বিভিন্ন ফুড...      1\n",
       "6706  ২০১৭ সালের দিকে যখন পাবুলাম মালিবাগ স্বপ্ন দোক...      1\n",
       "336   আজ ওয়ারী পপিইস (পুরান) টায় খেলাম যা পুলিশ ফাঁড়...      1\n",
       "55    ‼️অফার ❗অফার ❗অফার ‼️\\r\\n১ টাকার বার্গারের অফা...      0\n",
       "5925  শ্যামলী স্কয়ারের Burger Inn  এর ৯৯/- 'র বার্গা...      1\n",
       "3627  পসেটিভ রিভিও   খিদা লাগছে?Location :Block:C Ho...      1\n",
       "4250  বনানীর স্ট্রিটফুডগুলার মধ্যে সবচেয়ে বেশি মিস ক...      1"
      ],
      "text/html": [
       "<div>\n",
       "<style scoped>\n",
       "    .dataframe tbody tr th:only-of-type {\n",
       "        vertical-align: middle;\n",
       "    }\n",
       "\n",
       "    .dataframe tbody tr th {\n",
       "        vertical-align: top;\n",
       "    }\n",
       "\n",
       "    .dataframe thead th {\n",
       "        text-align: right;\n",
       "    }\n",
       "</style>\n",
       "<table border=\"1\" class=\"dataframe\">\n",
       "  <thead>\n",
       "    <tr style=\"text-align: right;\">\n",
       "      <th></th>\n",
       "      <th>Review</th>\n",
       "      <th>Label</th>\n",
       "    </tr>\n",
       "  </thead>\n",
       "  <tbody>\n",
       "    <tr>\n",
       "      <th>6903</th>\n",
       "      <td>৮০ টাকায় ২ টা বার্গারলকডাউনের দিন শেষ,স্কুল/কল...</td>\n",
       "      <td>1</td>\n",
       "    </tr>\n",
       "    <tr>\n",
       "      <th>3867</th>\n",
       "      <td>পুরান ঢাকার নাজিরাবাজার গিয়ে এই আইসক্রিম যদি ন...</td>\n",
       "      <td>1</td>\n",
       "    </tr>\n",
       "    <tr>\n",
       "      <th>2094</th>\n",
       "      <td>খুব ই সুন্দর ইন্টেরিয়র  নিয়ে দক্ষিণ বনশ্রী ত...</td>\n",
       "      <td>1</td>\n",
       "    </tr>\n",
       "    <tr>\n",
       "      <th>7125</th>\n",
       "      <td>#খাট্টামিঠা_ফুচকা বেশ কিছু মাস আগে বিভিন্ন ফুড...</td>\n",
       "      <td>1</td>\n",
       "    </tr>\n",
       "    <tr>\n",
       "      <th>6706</th>\n",
       "      <td>২০১৭ সালের দিকে যখন পাবুলাম মালিবাগ স্বপ্ন দোক...</td>\n",
       "      <td>1</td>\n",
       "    </tr>\n",
       "    <tr>\n",
       "      <th>336</th>\n",
       "      <td>আজ ওয়ারী পপিইস (পুরান) টায় খেলাম যা পুলিশ ফাঁড়...</td>\n",
       "      <td>1</td>\n",
       "    </tr>\n",
       "    <tr>\n",
       "      <th>55</th>\n",
       "      <td>‼️অফার ❗অফার ❗অফার ‼️\\r\\n১ টাকার বার্গারের অফা...</td>\n",
       "      <td>0</td>\n",
       "    </tr>\n",
       "    <tr>\n",
       "      <th>5925</th>\n",
       "      <td>শ্যামলী স্কয়ারের Burger Inn  এর ৯৯/- 'র বার্গা...</td>\n",
       "      <td>1</td>\n",
       "    </tr>\n",
       "    <tr>\n",
       "      <th>3627</th>\n",
       "      <td>পসেটিভ রিভিও   খিদা লাগছে?Location :Block:C Ho...</td>\n",
       "      <td>1</td>\n",
       "    </tr>\n",
       "    <tr>\n",
       "      <th>4250</th>\n",
       "      <td>বনানীর স্ট্রিটফুডগুলার মধ্যে সবচেয়ে বেশি মিস ক...</td>\n",
       "      <td>1</td>\n",
       "    </tr>\n",
       "  </tbody>\n",
       "</table>\n",
       "</div>"
      ]
     },
     "execution_count": 4,
     "metadata": {},
     "output_type": "execute_result"
    }
   ],
   "execution_count": 4
  },
  {
   "metadata": {
    "ExecuteTime": {
     "end_time": "2024-07-11T05:02:52.389181Z",
     "start_time": "2024-07-11T05:02:52.321696Z"
    }
   },
   "cell_type": "code",
   "source": "dataset.to_csv('bangla_food_review.csv',index=False)",
   "id": "d0e147fb85e5438a",
   "outputs": [],
   "execution_count": 5
  },
  {
   "metadata": {
    "ExecuteTime": {
     "end_time": "2024-07-11T05:03:00.496620Z",
     "start_time": "2024-07-11T05:03:00.410528Z"
    }
   },
   "cell_type": "code",
   "source": [
    "data = pd.read_csv('bangla_food_review.csv')\n",
    "data.sample(5)"
   ],
   "id": "ad8a6d2cd139f9f7",
   "outputs": [
    {
     "data": {
      "text/plain": [
       "                                                 Review  Label\n",
       "77    #Offer😍\\r\\n#এক_ঢিলে_দুই_পাখি😁\\r\\n#আমি_কালা_গলা...      0\n",
       "2889  Negative reviewহাজীর বিরিয়ানী নাজিরাবাজার ১৬০ ...      1\n",
       "3030  পজিটিভ রিভিউ সানশাইন ফুড ওয়ালড    আজ শ্যামলী স...      1\n",
       "539   👌👌ডিসকাউন্ট অফার 👌👌 \\r\\nঅফার তো আর কম খেলাম না...      0\n",
       "667   \"পাশের বাসার আন্টি বলেছে প্রচুর খেতে হবে তাই প...      0"
      ],
      "text/html": [
       "<div>\n",
       "<style scoped>\n",
       "    .dataframe tbody tr th:only-of-type {\n",
       "        vertical-align: middle;\n",
       "    }\n",
       "\n",
       "    .dataframe tbody tr th {\n",
       "        vertical-align: top;\n",
       "    }\n",
       "\n",
       "    .dataframe thead th {\n",
       "        text-align: right;\n",
       "    }\n",
       "</style>\n",
       "<table border=\"1\" class=\"dataframe\">\n",
       "  <thead>\n",
       "    <tr style=\"text-align: right;\">\n",
       "      <th></th>\n",
       "      <th>Review</th>\n",
       "      <th>Label</th>\n",
       "    </tr>\n",
       "  </thead>\n",
       "  <tbody>\n",
       "    <tr>\n",
       "      <th>77</th>\n",
       "      <td>#Offer😍\\r\\n#এক_ঢিলে_দুই_পাখি😁\\r\\n#আমি_কালা_গলা...</td>\n",
       "      <td>0</td>\n",
       "    </tr>\n",
       "    <tr>\n",
       "      <th>2889</th>\n",
       "      <td>Negative reviewহাজীর বিরিয়ানী নাজিরাবাজার ১৬০ ...</td>\n",
       "      <td>1</td>\n",
       "    </tr>\n",
       "    <tr>\n",
       "      <th>3030</th>\n",
       "      <td>পজিটিভ রিভিউ সানশাইন ফুড ওয়ালড    আজ শ্যামলী স...</td>\n",
       "      <td>1</td>\n",
       "    </tr>\n",
       "    <tr>\n",
       "      <th>539</th>\n",
       "      <td>👌👌ডিসকাউন্ট অফার 👌👌 \\r\\nঅফার তো আর কম খেলাম না...</td>\n",
       "      <td>0</td>\n",
       "    </tr>\n",
       "    <tr>\n",
       "      <th>667</th>\n",
       "      <td>\"পাশের বাসার আন্টি বলেছে প্রচুর খেতে হবে তাই প...</td>\n",
       "      <td>0</td>\n",
       "    </tr>\n",
       "  </tbody>\n",
       "</table>\n",
       "</div>"
      ]
     },
     "execution_count": 6,
     "metadata": {},
     "output_type": "execute_result"
    }
   ],
   "execution_count": 6
  },
  {
   "metadata": {
    "ExecuteTime": {
     "end_time": "2024-07-11T05:03:04.063511Z",
     "start_time": "2024-07-11T05:03:04.057122Z"
    }
   },
   "cell_type": "code",
   "source": [
    "data.dropna(inplace=True)\n",
    "data.shape"
   ],
   "id": "89308a11be86fac2",
   "outputs": [
    {
     "data": {
      "text/plain": [
       "(3339, 2)"
      ]
     },
     "execution_count": 7,
     "metadata": {},
     "output_type": "execute_result"
    }
   ],
   "execution_count": 7
  },
  {
   "metadata": {
    "ExecuteTime": {
     "end_time": "2024-07-11T05:03:04.808626Z",
     "start_time": "2024-07-11T05:03:04.798903Z"
    }
   },
   "cell_type": "code",
   "source": [
    "data.Label.replace(1,\"Not_Fake\",inplace=True)\n",
    "data.Label.replace(0,\"Fake\",inplace=True)\n",
    "data.sample(5)"
   ],
   "id": "5fc0840bcaa4e9e2",
   "outputs": [
    {
     "data": {
      "text/plain": [
       "                                                 Review     Label\n",
       "2532  #Positive_reviewধানমন্ডি ৮/এ,(আলমাস এর পাশে), ...  Not_Fake\n",
       "2918  পান্থপথে বেশ কিছু রেস্টুরেন্টেই রয়েছে অসাধারণ ...  Not_Fake\n",
       "1381  অফিসের বস এর স্যালারি ট্রিট পেলাম Dhaka Steakh...  Not_Fake\n",
       "282   here we go… my first try at this… a “short” & ...      Fake\n",
       "3180  #positive_review ইফতার + ডিনার খেয়ে এলাম Taste...  Not_Fake"
      ],
      "text/html": [
       "<div>\n",
       "<style scoped>\n",
       "    .dataframe tbody tr th:only-of-type {\n",
       "        vertical-align: middle;\n",
       "    }\n",
       "\n",
       "    .dataframe tbody tr th {\n",
       "        vertical-align: top;\n",
       "    }\n",
       "\n",
       "    .dataframe thead th {\n",
       "        text-align: right;\n",
       "    }\n",
       "</style>\n",
       "<table border=\"1\" class=\"dataframe\">\n",
       "  <thead>\n",
       "    <tr style=\"text-align: right;\">\n",
       "      <th></th>\n",
       "      <th>Review</th>\n",
       "      <th>Label</th>\n",
       "    </tr>\n",
       "  </thead>\n",
       "  <tbody>\n",
       "    <tr>\n",
       "      <th>2532</th>\n",
       "      <td>#Positive_reviewধানমন্ডি ৮/এ,(আলমাস এর পাশে), ...</td>\n",
       "      <td>Not_Fake</td>\n",
       "    </tr>\n",
       "    <tr>\n",
       "      <th>2918</th>\n",
       "      <td>পান্থপথে বেশ কিছু রেস্টুরেন্টেই রয়েছে অসাধারণ ...</td>\n",
       "      <td>Not_Fake</td>\n",
       "    </tr>\n",
       "    <tr>\n",
       "      <th>1381</th>\n",
       "      <td>অফিসের বস এর স্যালারি ট্রিট পেলাম Dhaka Steakh...</td>\n",
       "      <td>Not_Fake</td>\n",
       "    </tr>\n",
       "    <tr>\n",
       "      <th>282</th>\n",
       "      <td>here we go… my first try at this… a “short” &amp; ...</td>\n",
       "      <td>Fake</td>\n",
       "    </tr>\n",
       "    <tr>\n",
       "      <th>3180</th>\n",
       "      <td>#positive_review ইফতার + ডিনার খেয়ে এলাম Taste...</td>\n",
       "      <td>Not_Fake</td>\n",
       "    </tr>\n",
       "  </tbody>\n",
       "</table>\n",
       "</div>"
      ]
     },
     "execution_count": 8,
     "metadata": {},
     "output_type": "execute_result"
    }
   ],
   "execution_count": 8
  },
  {
   "metadata": {
    "ExecuteTime": {
     "end_time": "2024-07-11T05:03:08.813446Z",
     "start_time": "2024-07-11T05:03:08.805180Z"
    }
   },
   "cell_type": "code",
   "source": [
    "data[\"Label\"] = \"__label__\" + data[\"Label\"].astype(str)\n",
    "data.sample(5)"
   ],
   "id": "e44e01248be57a43",
   "outputs": [
    {
     "data": {
      "text/plain": [
       "                                                 Review              Label\n",
       "2384  মিটবক্স প্লেস The Meat Shack  এর কথা। একবার না...  __label__Not_Fake\n",
       "3104  Egg Dosa!!! *_*ধানমন্ডি 5 নাম্বার দামঃ মাত্র ৭...  __label__Not_Fake\n",
       "1530  স্থান: দস্তরখান মিরপুর-৬খাবার: ১.মুরগিরর ঝালফ্...  __label__Not_Fake\n",
       "2266  Cheese Loaded Honey Mustard  #মাত্র_৯৯_তেই_পাব...  __label__Not_Fake\n",
       "2062  রেড ভেলভেট কেক দিয়ে বাজিমাততার পছন্দের রেস্টু...  __label__Not_Fake"
      ],
      "text/html": [
       "<div>\n",
       "<style scoped>\n",
       "    .dataframe tbody tr th:only-of-type {\n",
       "        vertical-align: middle;\n",
       "    }\n",
       "\n",
       "    .dataframe tbody tr th {\n",
       "        vertical-align: top;\n",
       "    }\n",
       "\n",
       "    .dataframe thead th {\n",
       "        text-align: right;\n",
       "    }\n",
       "</style>\n",
       "<table border=\"1\" class=\"dataframe\">\n",
       "  <thead>\n",
       "    <tr style=\"text-align: right;\">\n",
       "      <th></th>\n",
       "      <th>Review</th>\n",
       "      <th>Label</th>\n",
       "    </tr>\n",
       "  </thead>\n",
       "  <tbody>\n",
       "    <tr>\n",
       "      <th>2384</th>\n",
       "      <td>মিটবক্স প্লেস The Meat Shack  এর কথা। একবার না...</td>\n",
       "      <td>__label__Not_Fake</td>\n",
       "    </tr>\n",
       "    <tr>\n",
       "      <th>3104</th>\n",
       "      <td>Egg Dosa!!! *_*ধানমন্ডি 5 নাম্বার দামঃ মাত্র ৭...</td>\n",
       "      <td>__label__Not_Fake</td>\n",
       "    </tr>\n",
       "    <tr>\n",
       "      <th>1530</th>\n",
       "      <td>স্থান: দস্তরখান মিরপুর-৬খাবার: ১.মুরগিরর ঝালফ্...</td>\n",
       "      <td>__label__Not_Fake</td>\n",
       "    </tr>\n",
       "    <tr>\n",
       "      <th>2266</th>\n",
       "      <td>Cheese Loaded Honey Mustard  #মাত্র_৯৯_তেই_পাব...</td>\n",
       "      <td>__label__Not_Fake</td>\n",
       "    </tr>\n",
       "    <tr>\n",
       "      <th>2062</th>\n",
       "      <td>রেড ভেলভেট কেক দিয়ে বাজিমাততার পছন্দের রেস্টু...</td>\n",
       "      <td>__label__Not_Fake</td>\n",
       "    </tr>\n",
       "  </tbody>\n",
       "</table>\n",
       "</div>"
      ]
     },
     "execution_count": 9,
     "metadata": {},
     "output_type": "execute_result"
    }
   ],
   "execution_count": 9
  },
  {
   "metadata": {
    "ExecuteTime": {
     "end_time": "2024-07-11T05:03:15.362289Z",
     "start_time": "2024-07-11T05:03:15.349979Z"
    }
   },
   "cell_type": "code",
   "source": [
    "data[\"category_description\"] = data[\"Label\"] +\" \"+ data[\"Review\"]\n",
    "data.sample(5)"
   ],
   "id": "57d85a08d92ade76",
   "outputs": [
    {
     "data": {
      "text/plain": [
       "                                                 Review              Label  \\\n",
       "2724  মেন্যু: ডাবল ইফতার প্ল্যাটার। সাথে দুই মগ মাঝা...  __label__Not_Fake   \n",
       "3311  Burgerology Wariমাঝে মাঝেই বসুন্ধরা এলাকাও যাও...  __label__Not_Fake   \n",
       "2498  আইটেম: সেট মেন্যু স্থান: রিলিস ফুড, শ্যামলী স্...  __label__Not_Fake   \n",
       "2072  কালাই রুটি খেতে রাজশাহী যাবেনকোনো দরকার নেই  K...  __label__Not_Fake   \n",
       "883   ভালোবাসার আরেক নাম কাবাব স্টেশন ❤️\\r\\nআবারও চল...      __label__Fake   \n",
       "\n",
       "                                   category_description  \n",
       "2724  __label__Not_Fake মেন্যু: ডাবল ইফতার প্ল্যাটার...  \n",
       "3311  __label__Not_Fake Burgerology Wariমাঝে মাঝেই ব...  \n",
       "2498  __label__Not_Fake আইটেম: সেট মেন্যু স্থান: রিল...  \n",
       "2072  __label__Not_Fake কালাই রুটি খেতে রাজশাহী যাবে...  \n",
       "883   __label__Fake ভালোবাসার আরেক নাম কাবাব স্টেশন ...  "
      ],
      "text/html": [
       "<div>\n",
       "<style scoped>\n",
       "    .dataframe tbody tr th:only-of-type {\n",
       "        vertical-align: middle;\n",
       "    }\n",
       "\n",
       "    .dataframe tbody tr th {\n",
       "        vertical-align: top;\n",
       "    }\n",
       "\n",
       "    .dataframe thead th {\n",
       "        text-align: right;\n",
       "    }\n",
       "</style>\n",
       "<table border=\"1\" class=\"dataframe\">\n",
       "  <thead>\n",
       "    <tr style=\"text-align: right;\">\n",
       "      <th></th>\n",
       "      <th>Review</th>\n",
       "      <th>Label</th>\n",
       "      <th>category_description</th>\n",
       "    </tr>\n",
       "  </thead>\n",
       "  <tbody>\n",
       "    <tr>\n",
       "      <th>2724</th>\n",
       "      <td>মেন্যু: ডাবল ইফতার প্ল্যাটার। সাথে দুই মগ মাঝা...</td>\n",
       "      <td>__label__Not_Fake</td>\n",
       "      <td>__label__Not_Fake মেন্যু: ডাবল ইফতার প্ল্যাটার...</td>\n",
       "    </tr>\n",
       "    <tr>\n",
       "      <th>3311</th>\n",
       "      <td>Burgerology Wariমাঝে মাঝেই বসুন্ধরা এলাকাও যাও...</td>\n",
       "      <td>__label__Not_Fake</td>\n",
       "      <td>__label__Not_Fake Burgerology Wariমাঝে মাঝেই ব...</td>\n",
       "    </tr>\n",
       "    <tr>\n",
       "      <th>2498</th>\n",
       "      <td>আইটেম: সেট মেন্যু স্থান: রিলিস ফুড, শ্যামলী স্...</td>\n",
       "      <td>__label__Not_Fake</td>\n",
       "      <td>__label__Not_Fake আইটেম: সেট মেন্যু স্থান: রিল...</td>\n",
       "    </tr>\n",
       "    <tr>\n",
       "      <th>2072</th>\n",
       "      <td>কালাই রুটি খেতে রাজশাহী যাবেনকোনো দরকার নেই  K...</td>\n",
       "      <td>__label__Not_Fake</td>\n",
       "      <td>__label__Not_Fake কালাই রুটি খেতে রাজশাহী যাবে...</td>\n",
       "    </tr>\n",
       "    <tr>\n",
       "      <th>883</th>\n",
       "      <td>ভালোবাসার আরেক নাম কাবাব স্টেশন ❤️\\r\\nআবারও চল...</td>\n",
       "      <td>__label__Fake</td>\n",
       "      <td>__label__Fake ভালোবাসার আরেক নাম কাবাব স্টেশন ...</td>\n",
       "    </tr>\n",
       "  </tbody>\n",
       "</table>\n",
       "</div>"
      ]
     },
     "execution_count": 10,
     "metadata": {},
     "output_type": "execute_result"
    }
   ],
   "execution_count": 10
  },
  {
   "metadata": {
    "ExecuteTime": {
     "end_time": "2024-07-11T05:03:32.232730Z",
     "start_time": "2024-07-11T05:03:32.227994Z"
    }
   },
   "cell_type": "code",
   "source": [
    "def preprocess(sentence):\n",
    "    sentence = re.sub(\"['।,]+\",' ',sentence)\n",
    "    sentence = re.sub(r'\\n', ' ', sentence)\n",
    "    sentence = re.sub(r'[ ]+', ' ', sentence)\n",
    "    return sentence.strip().lower()"
   ],
   "id": "d39c4727e9429006",
   "outputs": [],
   "execution_count": 11
  },
  {
   "metadata": {
    "ExecuteTime": {
     "end_time": "2024-07-11T05:03:34.305980Z",
     "start_time": "2024-07-11T05:03:34.060093Z"
    }
   },
   "cell_type": "code",
   "source": [
    "data.category_description = data.category_description.map(preprocess)\n",
    "data.sample(5)\n",
    "data.to_csv(\"food_review_after_preprocessing.csv\",index=False)"
   ],
   "id": "a0e9cd48fe3d1f4c",
   "outputs": [],
   "execution_count": 12
  },
  {
   "metadata": {
    "ExecuteTime": {
     "end_time": "2024-06-28T14:52:21.807914Z",
     "start_time": "2024-06-28T14:52:21.802318Z"
    }
   },
   "cell_type": "code",
   "source": "data.category_description",
   "id": "d28c356f0b86eb32",
   "outputs": [
    {
     "data": {
      "text/plain": [
       "0       __label__fake buy one get one mexican পাস্তা \\...\n",
       "1       __label__fake #review দেখে গেছিলাম\\r ভাবতেই অব...\n",
       "2       __label__fake #partner_platter ❤\\r #বিগ_বাইট র...\n",
       "3       __label__fake অথেনটিক পিজ্জা খেতে চাইলে এইটা ম...\n",
       "4       __label__fake অনলি ফর ইউনিভার্সিটি কাপল স্টুডে...\n",
       "                              ...                        \n",
       "3334    __label__not_fake টেবিল ভর্তি খাবার দেখে চলে গ...\n",
       "3335    __label__not_fake আহারে ভেলপুড়ি এক এর পর এক প...\n",
       "3336    __label__not_fake আরাবিয়ান ফাস্টফুড ধানমন্ডির ...\n",
       "3337    __label__not_fake বর্তমান সময়ের সেরা কাচ্চির ক...\n",
       "3338    __label__not_fake আবার ফিরে যেতে হলো বানকার্স ...\n",
       "Name: category_description, Length: 3339, dtype: object"
      ]
     },
     "execution_count": 13,
     "metadata": {},
     "output_type": "execute_result"
    }
   ],
   "execution_count": 13
  },
  {
   "metadata": {
    "ExecuteTime": {
     "end_time": "2024-06-28T14:52:23.639742Z",
     "start_time": "2024-06-28T14:52:23.634496Z"
    }
   },
   "cell_type": "code",
   "source": "train_set, test_set = train_test_split(data, test_size=0.2, random_state=42)",
   "id": "8bd0cd41e6b58402",
   "outputs": [],
   "execution_count": 14
  },
  {
   "metadata": {
    "ExecuteTime": {
     "end_time": "2024-06-28T14:52:24.313230Z",
     "start_time": "2024-06-28T14:52:24.305469Z"
    }
   },
   "cell_type": "code",
   "source": "train_set.category_description",
   "id": "eaf26966aeacf6f3",
   "outputs": [
    {
     "data": {
      "text/plain": [
       "3255    __label__not_fake the pabulum #a_great_initiat...\n",
       "2009    __label__not_fake #৯৯৳তান্দুরী আস্ত একটা মুরগি...\n",
       "712                            __label__fake #paid review\n",
       "2861    __label__not_fake কাচ্চি লাভারদের জন্য বর্তমান...\n",
       "1506    __label__not_fake #১২১টাকা নাকি #২৬টাকা#২৬শে_ম...\n",
       "                              ...                        \n",
       "1095    __label__fake place: রাজমহল ফুডকোর্ট \\r price:...\n",
       "1130    __label__fake হ্যালো ভোজন প্রিয় নারায়ণগঞ্জ বা...\n",
       "1294    __label__fake আচ্ছা! বাম চোখ লাফালে কি বিপদ আস...\n",
       "860     __label__fake #brownie ❤ \\r this fudgy brownie...\n",
       "3174    __label__not_fake আনন্দময় ঈদের কাছাকাছি সময়ে র...\n",
       "Name: category_description, Length: 2671, dtype: object"
      ]
     },
     "execution_count": 15,
     "metadata": {},
     "output_type": "execute_result"
    }
   ],
   "execution_count": 15
  },
  {
   "metadata": {
    "ExecuteTime": {
     "end_time": "2024-06-28T14:52:25.181110Z",
     "start_time": "2024-06-28T14:52:25.112534Z"
    }
   },
   "cell_type": "code",
   "source": [
    "train_set.to_csv('food_review.train',columns=[\"category_description\"],index=False,header=False)\n",
    "test_set.to_csv('food_review.test',columns=[\"category_description\"],index=False,header=False)"
   ],
   "id": "e7935cef75ffff1a",
   "outputs": [],
   "execution_count": 16
  },
  {
   "metadata": {
    "ExecuteTime": {
     "end_time": "2024-06-28T14:52:26.538306Z",
     "start_time": "2024-06-28T14:52:26.294041Z"
    }
   },
   "cell_type": "code",
   "source": "model = fasttext.train_supervised(input='food_review.train')\n",
   "id": "adfa7f9952478ba",
   "outputs": [],
   "execution_count": 17
  },
  {
   "metadata": {
    "ExecuteTime": {
     "end_time": "2024-06-28T14:52:27.163625Z",
     "start_time": "2024-06-28T14:52:27.135436Z"
    }
   },
   "cell_type": "code",
   "source": "model.test(\"food_review.test\")",
   "id": "19755b97bf68b517",
   "outputs": [
    {
     "data": {
      "text/plain": [
       "(351, 0.9772079772079773, 0.9772079772079773)"
      ]
     },
     "execution_count": 18,
     "metadata": {},
     "output_type": "execute_result"
    }
   ],
   "execution_count": 18
  },
  {
   "metadata": {
    "ExecuteTime": {
     "end_time": "2024-06-28T14:52:31.368346Z",
     "start_time": "2024-06-28T14:52:31.355388Z"
    }
   },
   "cell_type": "code",
   "source": [
    "# Step 2: Load the test data\n",
    "test_data = []\n",
    "with open('food_review.test', 'r', encoding='utf-8', errors='replace') as f:\n",
    "    for line in f:\n",
    "        if ' ' in line:  # Check if there is at least one space in the line\n",
    "            label, text = line.split(' ', 1)\n",
    "            test_data.append((label.strip(), text.strip()))\n",
    "        else:\n",
    "            print(f\"Skipping line due to missing label/text: {line.strip()}\")"
   ],
   "id": "fe7d1d0c67b77e8e",
   "outputs": [],
   "execution_count": 19
  },
  {
   "metadata": {
    "ExecuteTime": {
     "end_time": "2024-06-28T14:52:32.235936Z",
     "start_time": "2024-06-28T14:52:32.186958Z"
    }
   },
   "cell_type": "code",
   "source": [
    "# Step 3: Get predictions and compare with actual labels\n",
    "true_negatives = []\n",
    "true_positives = []\n",
    "false_negatives = []\n",
    "false_positives = []\n",
    "\n",
    "for label, text in test_data:\n",
    "    prediction = model.predict(text)[0][0]  # Get the predicted label\n",
    "    \n",
    "    if label == \"__label__not_fake\" and prediction == \"__label__not_fake\":\n",
    "        true_negatives.append((label, text))\n",
    "    elif label == \"__label__fake\" and prediction == \"__label__fake\":\n",
    "        true_positives.append((label, text))\n",
    "    elif label == \"__label__fake\" and prediction == \"__label__not_fake\":\n",
    "        false_negatives.append((label, text))\n",
    "    elif label == \"__label__not_fake\" and prediction == \"__label__fake\":\n",
    "        false_positives.append((label, text))\n"
   ],
   "id": "3e92a07cdec8a399",
   "outputs": [],
   "execution_count": 20
  },
  {
   "metadata": {
    "ExecuteTime": {
     "end_time": "2024-06-28T14:52:33.401685Z",
     "start_time": "2024-06-28T14:52:33.394126Z"
    }
   },
   "cell_type": "code",
   "source": "model.predict('''○বান্ধুবিরা মিলে অনেক দিন পর বের হয়েছিলাম রিক্সায় ঘুরতে কিন্তুু ওরা খালি চাস্ন থাকে treat জন্য আমার আবার সুন্দর সুন্দর sun glass পরতে অনেক ভাল লাগে নতুন একটা চশমা পরে আজকে বের হয়েছিলাম বান্ধুবিরাও বললো েতাকে মানাইসে treat বাহানা আর খুইজা না পাওয়ায় বলতাসে নতুন glass কিনসস সেই খুশিতে treat দে 😒 কি আর করার অই দিন ফুড ব্যাংকে burger fiesta review দেক্লাম খুব reasonable price তাদের ফুডের আর খাবারও মজা আগেও তাদের ফুড আমি test করেছি 😋then burger fiesta গেলাম আমরা অডার করেছিলাম naga wings 🍗naga wings টা খুবই ঝাল ঝাল আমার খুব মজা লাগে জারা ঝাল খেতে পারেন must be try করবেন and সাথে অবশ্যই cold coffee নিতে হবে তাহলে test টা আরও মজা লাগে 😋 i love this burger fiesta s french fry 🍟🧡তাদের french fry টা খুবই crispy হয় and last one chicken sandwich as a good test 🥪 1.naga wings 4 pics/🍗99 tk. 2.chicken sandwich 4 pics🥪/99 tk. 3.french fry /100 tk 🍟 4.cold coffee 70 tk🍹''')",
   "id": "49e6c9074674083e",
   "outputs": [
    {
     "data": {
      "text/plain": [
       "(('__label__not_fake',), array([0.91422081]))"
      ]
     },
     "execution_count": 21,
     "metadata": {},
     "output_type": "execute_result"
    }
   ],
   "execution_count": 21
  },
  {
   "metadata": {
    "ExecuteTime": {
     "end_time": "2024-06-28T14:52:34.465433Z",
     "start_time": "2024-06-28T14:52:34.459373Z"
    }
   },
   "cell_type": "code",
   "source": "model.predict('''অথেনটিক পিজ্জা খেতে চাইলে এইটা মাস্ট ট্রাই ❤️ ৪৯ টাকার অফার পিজ্জা খেতে গেছিলাম Pizza Station এ। অফার শেষ, তাই ভাবলাম এসেছি একটা পিজ্জা ট্রাই করেই যাই। অর্ডার করলাম তাদের Beef Supreme নামের পিজ্জাটা। আমার খাওয়া সেরা পিজ্জা গুলোর মধ্যে এইটা একটা। থিন ক্রাস্ট, হালকা চিজ আর উপরে বিফ কিমার টপিং। পুরাই প্রিমিয়াম একটা পিজ্জার ফিল দেয়। বিফ কিমায় হালকা নোনতা ও গোলমরিচ এর স্বাদ আর সাথে দেওয়া মেয়নিসের হালকা মিষ্টি একদম পারফেক্ট ব্যালেন্স। বেশ দারুন লাগে খেতে। যাদের একদম চিজে মাখামাখি পিজ্জা ভালো লাগে না, তারা Pizza Station এর পিজ্জা একবার ট্রাই করে দেখতে পারেন ❤️ দাম: ৪৯০ টাকা (১২\") রেটিং: ৯/১০''')",
   "id": "20ab9fa56b37f9bd",
   "outputs": [
    {
     "data": {
      "text/plain": [
       "(('__label__not_fake',), array([0.97985798]))"
      ]
     },
     "execution_count": 22,
     "metadata": {},
     "output_type": "execute_result"
    }
   ],
   "execution_count": 22
  },
  {
   "metadata": {
    "ExecuteTime": {
     "end_time": "2024-06-27T20:45:50.613098Z",
     "start_time": "2024-06-27T20:45:50.562912Z"
    }
   },
   "cell_type": "code",
   "source": "model.save_model('bangla_food_review.model')",
   "id": "f8f52e539cdbce7a",
   "outputs": [],
   "execution_count": 19
  },
  {
   "metadata": {},
   "cell_type": "code",
   "outputs": [],
   "execution_count": null,
   "source": "",
   "id": "99da98344dda8a3e"
  }
 ],
 "metadata": {
  "kernelspec": {
   "display_name": "Python 3",
   "language": "python",
   "name": "python3"
  },
  "language_info": {
   "codemirror_mode": {
    "name": "ipython",
    "version": 2
   },
   "file_extension": ".py",
   "mimetype": "text/x-python",
   "name": "python",
   "nbconvert_exporter": "python",
   "pygments_lexer": "ipython2",
   "version": "2.7.6"
  }
 },
 "nbformat": 4,
 "nbformat_minor": 5
}
