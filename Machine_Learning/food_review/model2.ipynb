{
 "cells": [
  {
   "cell_type": "code",
   "id": "initial_id",
   "metadata": {
    "collapsed": true,
    "ExecuteTime": {
     "end_time": "2024-07-12T14:49:50.660698Z",
     "start_time": "2024-07-12T14:49:50.656715Z"
    }
   },
   "source": [
    "import pandas as pd\n",
    "import numpy as np\n",
    "import fasttext\n",
    "from sklearn.model_selection import train_test_split\n",
    "from sklearn.metrics import accuracy_score, classification_report\n",
    "from sklearn.model_selection import StratifiedKFold, cross_val_score\n",
    "from sklearn.svm import SVC\n",
    "from sklearn.utils.class_weight import compute_class_weight\n",
    "import re\n",
    "import pickle"
   ],
   "outputs": [],
   "execution_count": 20
  },
  {
   "metadata": {
    "ExecuteTime": {
     "end_time": "2024-07-12T14:27:12.308907Z",
     "start_time": "2024-07-12T14:25:56.991529Z"
    }
   },
   "cell_type": "code",
   "source": "fasttext_model = fasttext.load_model('cc.bn.300.bin')",
   "id": "5cc264544c545b36",
   "outputs": [],
   "execution_count": 2
  },
  {
   "metadata": {
    "ExecuteTime": {
     "end_time": "2024-07-12T14:27:40.806518Z",
     "start_time": "2024-07-12T14:27:40.206825Z"
    }
   },
   "cell_type": "code",
   "source": [
    "df = pd.read_csv('bangla_food_review.csv')\n",
    "df.shape"
   ],
   "id": "9dc30271e3f3e745",
   "outputs": [
    {
     "data": {
      "text/plain": [
       "(3339, 2)"
      ]
     },
     "execution_count": 3,
     "metadata": {},
     "output_type": "execute_result"
    }
   ],
   "execution_count": 3
  },
  {
   "metadata": {
    "ExecuteTime": {
     "end_time": "2024-07-12T14:27:49.879031Z",
     "start_time": "2024-07-12T14:27:49.836039Z"
    }
   },
   "cell_type": "code",
   "source": [
    "def preprocess(sentence):\n",
    "    emoji_pattern = re.compile(\n",
    "        \"[\" \n",
    "        \"\\U0001F600-\\U0001F64F\"  # Emoticons\n",
    "        \"\\U0001F300-\\U0001F5FF\"  # Symbols & Pictographs\n",
    "        \"\\U0001F680-\\U0001F6FF\"  # Transport & Map Symbols\n",
    "        \"\\U0001F700-\\U0001F77F\"  # Alchemical Symbols\n",
    "        \"\\U0001F780-\\U0001F7FF\"  # Geometric Shapes Extended\n",
    "        \"\\U0001F800-\\U0001F8FF\"  # Supplemental Arrows-C\n",
    "        \"\\U0001F900-\\U0001F9FF\"  # Supplemental Symbols and Pictographs\n",
    "        \"\\U0001FA00-\\U0001FA6F\"  # Chess Symbols\n",
    "        \"\\U0001FA70-\\U0001FAFF\"  # Symbols and Pictographs Extended-A\n",
    "        \"\\U00002702-\\U000027B0\"  # Dingbats\n",
    "        \"\\U000024C2-\\U0001F251\" \n",
    "        \"]+\", flags=re.UNICODE\n",
    "    )\n",
    "    sentence = emoji_pattern.sub(r'', sentence)\n",
    "    sentence = re.sub(r'\\s*\\n\\s*', ' ',sentence)\n",
    "    sentence = re.sub(r'\\s+', ' ',sentence)\n",
    "    sentence = re.sub(r'[#,।]', '', sentence)\n",
    "    return sentence.strip().lower()"
   ],
   "id": "cfb073c443e7c47a",
   "outputs": [],
   "execution_count": 4
  },
  {
   "metadata": {
    "ExecuteTime": {
     "end_time": "2024-07-12T14:27:59.112918Z",
     "start_time": "2024-07-12T14:27:58.505884Z"
    }
   },
   "cell_type": "code",
   "source": "df['processed_text'] = df['Review'].apply(preprocess)",
   "id": "ca10cc5ae6ef666e",
   "outputs": [],
   "execution_count": 5
  },
  {
   "metadata": {
    "ExecuteTime": {
     "end_time": "2024-07-12T14:28:05.750071Z",
     "start_time": "2024-07-12T14:28:05.697806Z"
    }
   },
   "cell_type": "code",
   "source": [
    "# Convert text to FastText embeddings\n",
    "def text_to_embedding(text, model, embedding_dim=300):\n",
    "    words = text.split()\n",
    "    embeddings = [model.get_word_vector(word) for word in words if word in model]\n",
    "    if embeddings:\n",
    "        return np.mean(embeddings, axis=0)\n",
    "    else:\n",
    "        return np.zeros(embedding_dim)"
   ],
   "id": "f546f7c966669f2e",
   "outputs": [],
   "execution_count": 6
  },
  {
   "metadata": {
    "ExecuteTime": {
     "end_time": "2024-07-12T14:28:15.016853Z",
     "start_time": "2024-07-12T14:28:14.982246Z"
    }
   },
   "cell_type": "code",
   "source": "X_train, X_test, y_train, y_test = train_test_split(df[\"processed_text\"], df[\"Label\"], test_size=0.2, random_state=42,stratify=df[\"Label\"])",
   "id": "8729cd622c107547",
   "outputs": [],
   "execution_count": 7
  },
  {
   "metadata": {
    "ExecuteTime": {
     "end_time": "2024-07-12T14:42:42.659544Z",
     "start_time": "2024-07-12T14:28:52.450438Z"
    }
   },
   "cell_type": "code",
   "source": [
    "# Apply embeddings transformation with progress notification\n",
    "X_train_embeddings = []\n",
    "for i, text in enumerate(X_train):\n",
    "    X_train_embeddings.append(text_to_embedding(text, fasttext_model))\n",
    "    if (i + 1) % 100 == 0:\n",
    "        print(f'Processed {i + 1} texts')\n",
    "\n",
    "X_train_embeddings = np.array(X_train_embeddings)\n",
    "y = y_train"
   ],
   "id": "b6ed515d2a4a2743",
   "outputs": [
    {
     "name": "stdout",
     "output_type": "stream",
     "text": [
      "Processed 100 texts\n",
      "Processed 200 texts\n",
      "Processed 300 texts\n",
      "Processed 400 texts\n",
      "Processed 500 texts\n",
      "Processed 600 texts\n",
      "Processed 700 texts\n",
      "Processed 800 texts\n",
      "Processed 900 texts\n",
      "Processed 1000 texts\n",
      "Processed 1100 texts\n",
      "Processed 1200 texts\n",
      "Processed 1300 texts\n",
      "Processed 1400 texts\n",
      "Processed 1500 texts\n",
      "Processed 1600 texts\n",
      "Processed 1700 texts\n",
      "Processed 1800 texts\n",
      "Processed 1900 texts\n",
      "Processed 2000 texts\n",
      "Processed 2100 texts\n",
      "Processed 2200 texts\n",
      "Processed 2300 texts\n",
      "Processed 2400 texts\n",
      "Processed 2500 texts\n",
      "Processed 2600 texts\n"
     ]
    }
   ],
   "execution_count": 8
  },
  {
   "metadata": {
    "ExecuteTime": {
     "end_time": "2024-07-12T14:47:28.464055Z",
     "start_time": "2024-07-12T14:43:54.860044Z"
    }
   },
   "cell_type": "code",
   "source": "X_test_embeddings = np.array([text_to_embedding(text, fasttext_model) for text in X_test])",
   "id": "fa88ec772898cc0d",
   "outputs": [],
   "execution_count": 13
  },
  {
   "metadata": {
    "ExecuteTime": {
     "end_time": "2024-07-12T14:43:17.486281Z",
     "start_time": "2024-07-12T14:43:17.476734Z"
    }
   },
   "cell_type": "code",
   "source": [
    "class_weights = compute_class_weight('balanced', classes=np.unique(y_train), y=y_train)\n",
    "class_weights_dict = {i: class_weights[i] for i in range(len(class_weights))}"
   ],
   "id": "70ed092597dbe55f",
   "outputs": [],
   "execution_count": 10
  },
  {
   "metadata": {
    "ExecuteTime": {
     "end_time": "2024-07-12T14:47:48.382881Z",
     "start_time": "2024-07-12T14:47:48.017121Z"
    }
   },
   "cell_type": "code",
   "source": [
    "model = SVC(class_weight=class_weights_dict)\n",
    "model.fit(X_train_embeddings, y_train)"
   ],
   "id": "41baab2d504aef4d",
   "outputs": [
    {
     "data": {
      "text/plain": [
       "SVC(class_weight={0: 1.2469654528478058, 1: 0.8346875})"
      ],
      "text/html": [
       "<style>#sk-container-id-2 {color: black;background-color: white;}#sk-container-id-2 pre{padding: 0;}#sk-container-id-2 div.sk-toggleable {background-color: white;}#sk-container-id-2 label.sk-toggleable__label {cursor: pointer;display: block;width: 100%;margin-bottom: 0;padding: 0.3em;box-sizing: border-box;text-align: center;}#sk-container-id-2 label.sk-toggleable__label-arrow:before {content: \"▸\";float: left;margin-right: 0.25em;color: #696969;}#sk-container-id-2 label.sk-toggleable__label-arrow:hover:before {color: black;}#sk-container-id-2 div.sk-estimator:hover label.sk-toggleable__label-arrow:before {color: black;}#sk-container-id-2 div.sk-toggleable__content {max-height: 0;max-width: 0;overflow: hidden;text-align: left;background-color: #f0f8ff;}#sk-container-id-2 div.sk-toggleable__content pre {margin: 0.2em;color: black;border-radius: 0.25em;background-color: #f0f8ff;}#sk-container-id-2 input.sk-toggleable__control:checked~div.sk-toggleable__content {max-height: 200px;max-width: 100%;overflow: auto;}#sk-container-id-2 input.sk-toggleable__control:checked~label.sk-toggleable__label-arrow:before {content: \"▾\";}#sk-container-id-2 div.sk-estimator input.sk-toggleable__control:checked~label.sk-toggleable__label {background-color: #d4ebff;}#sk-container-id-2 div.sk-label input.sk-toggleable__control:checked~label.sk-toggleable__label {background-color: #d4ebff;}#sk-container-id-2 input.sk-hidden--visually {border: 0;clip: rect(1px 1px 1px 1px);clip: rect(1px, 1px, 1px, 1px);height: 1px;margin: -1px;overflow: hidden;padding: 0;position: absolute;width: 1px;}#sk-container-id-2 div.sk-estimator {font-family: monospace;background-color: #f0f8ff;border: 1px dotted black;border-radius: 0.25em;box-sizing: border-box;margin-bottom: 0.5em;}#sk-container-id-2 div.sk-estimator:hover {background-color: #d4ebff;}#sk-container-id-2 div.sk-parallel-item::after {content: \"\";width: 100%;border-bottom: 1px solid gray;flex-grow: 1;}#sk-container-id-2 div.sk-label:hover label.sk-toggleable__label {background-color: #d4ebff;}#sk-container-id-2 div.sk-serial::before {content: \"\";position: absolute;border-left: 1px solid gray;box-sizing: border-box;top: 0;bottom: 0;left: 50%;z-index: 0;}#sk-container-id-2 div.sk-serial {display: flex;flex-direction: column;align-items: center;background-color: white;padding-right: 0.2em;padding-left: 0.2em;position: relative;}#sk-container-id-2 div.sk-item {position: relative;z-index: 1;}#sk-container-id-2 div.sk-parallel {display: flex;align-items: stretch;justify-content: center;background-color: white;position: relative;}#sk-container-id-2 div.sk-item::before, #sk-container-id-2 div.sk-parallel-item::before {content: \"\";position: absolute;border-left: 1px solid gray;box-sizing: border-box;top: 0;bottom: 0;left: 50%;z-index: -1;}#sk-container-id-2 div.sk-parallel-item {display: flex;flex-direction: column;z-index: 1;position: relative;background-color: white;}#sk-container-id-2 div.sk-parallel-item:first-child::after {align-self: flex-end;width: 50%;}#sk-container-id-2 div.sk-parallel-item:last-child::after {align-self: flex-start;width: 50%;}#sk-container-id-2 div.sk-parallel-item:only-child::after {width: 0;}#sk-container-id-2 div.sk-dashed-wrapped {border: 1px dashed gray;margin: 0 0.4em 0.5em 0.4em;box-sizing: border-box;padding-bottom: 0.4em;background-color: white;}#sk-container-id-2 div.sk-label label {font-family: monospace;font-weight: bold;display: inline-block;line-height: 1.2em;}#sk-container-id-2 div.sk-label-container {text-align: center;}#sk-container-id-2 div.sk-container {/* jupyter's `normalize.less` sets `[hidden] { display: none; }` but bootstrap.min.css set `[hidden] { display: none !important; }` so we also need the `!important` here to be able to override the default hidden behavior on the sphinx rendered scikit-learn.org. See: https://github.com/scikit-learn/scikit-learn/issues/21755 */display: inline-block !important;position: relative;}#sk-container-id-2 div.sk-text-repr-fallback {display: none;}</style><div id=\"sk-container-id-2\" class=\"sk-top-container\"><div class=\"sk-text-repr-fallback\"><pre>SVC(class_weight={0: 1.2469654528478058, 1: 0.8346875})</pre><b>In a Jupyter environment, please rerun this cell to show the HTML representation or trust the notebook. <br />On GitHub, the HTML representation is unable to render, please try loading this page with nbviewer.org.</b></div><div class=\"sk-container\" hidden><div class=\"sk-item\"><div class=\"sk-estimator sk-toggleable\"><input class=\"sk-toggleable__control sk-hidden--visually\" id=\"sk-estimator-id-2\" type=\"checkbox\" checked><label for=\"sk-estimator-id-2\" class=\"sk-toggleable__label sk-toggleable__label-arrow\">SVC</label><div class=\"sk-toggleable__content\"><pre>SVC(class_weight={0: 1.2469654528478058, 1: 0.8346875})</pre></div></div></div></div></div>"
      ]
     },
     "execution_count": 14,
     "metadata": {},
     "output_type": "execute_result"
    }
   ],
   "execution_count": 14
  },
  {
   "metadata": {
    "ExecuteTime": {
     "end_time": "2024-07-12T14:47:52.220685Z",
     "start_time": "2024-07-12T14:47:52.052389Z"
    }
   },
   "cell_type": "code",
   "source": [
    "y_pred = model.predict(X_test_embeddings)\n",
    "y_pred"
   ],
   "id": "4a948a37738f4b64",
   "outputs": [
    {
     "data": {
      "text/plain": [
       "array([0, 0, 1, 0, 1, 1, 1, 0, 1, 1, 0, 1, 0, 1, 0, 0, 1, 0, 1, 1, 1, 1,\n",
       "       1, 0, 1, 1, 1, 1, 0, 0, 0, 0, 1, 0, 1, 0, 1, 1, 1, 1, 0, 1, 1, 1,\n",
       "       1, 1, 0, 1, 1, 1, 1, 1, 0, 1, 0, 1, 1, 0, 0, 1, 0, 0, 1, 1, 1, 0,\n",
       "       1, 1, 1, 0, 1, 0, 0, 0, 1, 1, 0, 1, 0, 0, 0, 0, 0, 1, 0, 1, 1, 1,\n",
       "       1, 1, 1, 0, 1, 1, 0, 0, 0, 1, 0, 0, 0, 0, 1, 1, 0, 1, 0, 0, 1, 0,\n",
       "       1, 0, 0, 0, 1, 0, 0, 1, 1, 0, 1, 1, 1, 0, 1, 0, 0, 0, 1, 0, 1, 1,\n",
       "       0, 0, 1, 1, 1, 1, 0, 1, 0, 1, 1, 0, 0, 1, 0, 0, 1, 1, 0, 1, 1, 0,\n",
       "       1, 1, 1, 0, 1, 1, 1, 1, 1, 1, 0, 1, 1, 1, 0, 1, 0, 1, 1, 0, 0, 1,\n",
       "       1, 1, 1, 0, 0, 1, 1, 1, 1, 1, 0, 1, 1, 1, 0, 0, 1, 1, 1, 1, 1, 0,\n",
       "       0, 0, 0, 0, 1, 1, 1, 0, 1, 0, 0, 1, 0, 1, 0, 0, 1, 1, 0, 0, 1, 1,\n",
       "       0, 1, 0, 1, 1, 1, 1, 1, 1, 0, 0, 1, 0, 1, 0, 1, 1, 1, 1, 0, 1, 1,\n",
       "       0, 0, 1, 0, 1, 1, 1, 0, 1, 0, 1, 1, 1, 1, 1, 0, 0, 0, 1, 1, 0, 1,\n",
       "       0, 1, 1, 1, 0, 1, 0, 0, 0, 0, 0, 1, 1, 1, 0, 1, 1, 1, 1, 1, 1, 0,\n",
       "       1, 0, 0, 1, 0, 1, 1, 0, 1, 1, 0, 1, 1, 0, 0, 1, 0, 0, 0, 0, 0, 1,\n",
       "       0, 1, 1, 0, 0, 0, 1, 1, 1, 1, 1, 1, 1, 0, 0, 1, 0, 1, 1, 0, 1, 1,\n",
       "       0, 0, 0, 1, 0, 1, 0, 1, 0, 1, 1, 1, 0, 1, 1, 0, 1, 0, 0, 1, 0, 0,\n",
       "       1, 1, 0, 1, 0, 0, 1, 1, 0, 0, 0, 1, 1, 0, 0, 1, 1, 1, 0, 1, 0, 0,\n",
       "       1, 1, 1, 1, 0, 0, 1, 1, 0, 1, 0, 0, 1, 1, 1, 1, 1, 0, 1, 0, 1, 0,\n",
       "       0, 0, 0, 1, 1, 1, 0, 0, 1, 0, 1, 1, 1, 1, 1, 1, 1, 0, 0, 0, 0, 0,\n",
       "       1, 0, 1, 1, 1, 0, 0, 1, 1, 0, 0, 0, 0, 0, 0, 0, 1, 1, 0, 0, 1, 1,\n",
       "       1, 1, 0, 1, 1, 1, 1, 1, 1, 0, 0, 0, 1, 0, 1, 1, 1, 0, 0, 1, 1, 1,\n",
       "       0, 0, 0, 1, 1, 1, 0, 1, 0, 1, 1, 1, 1, 0, 0, 1, 1, 0, 0, 1, 0, 0,\n",
       "       1, 1, 1, 1, 0, 1, 1, 1, 1, 0, 1, 0, 1, 1, 0, 1, 0, 1, 0, 1, 1, 0,\n",
       "       1, 1, 0, 1, 1, 1, 1, 1, 0, 0, 1, 0, 1, 1, 0, 1, 1, 1, 0, 1, 0, 1,\n",
       "       0, 0, 0, 1, 0, 1, 0, 1, 1, 1, 1, 1, 0, 1, 0, 0, 0, 1, 1, 1, 1, 0,\n",
       "       1, 1, 0, 0, 1, 1, 0, 1, 1, 1, 1, 0, 1, 1, 0, 1, 1, 0, 1, 1, 0, 0,\n",
       "       1, 1, 0, 0, 1, 1, 0, 1, 1, 1, 1, 1, 1, 1, 0, 1, 0, 1, 0, 0, 0, 1,\n",
       "       1, 1, 1, 0, 1, 1, 1, 1, 0, 1, 1, 1, 0, 1, 1, 1, 1, 0, 1, 1, 1, 1,\n",
       "       0, 1, 0, 1, 0, 0, 1, 1, 1, 1, 0, 1, 1, 1, 0, 0, 1, 1, 0, 0, 0, 1,\n",
       "       0, 0, 0, 1, 1, 1, 1, 1, 0, 0, 1, 1, 0, 0, 0, 1, 1, 1, 1, 1, 1, 1,\n",
       "       1, 1, 0, 1, 0, 0, 1, 0], dtype=int64)"
      ]
     },
     "execution_count": 15,
     "metadata": {},
     "output_type": "execute_result"
    }
   ],
   "execution_count": 15
  },
  {
   "metadata": {
    "ExecuteTime": {
     "end_time": "2024-07-12T14:48:15.819606Z",
     "start_time": "2024-07-12T14:48:15.792555Z"
    }
   },
   "cell_type": "code",
   "source": [
    "df_results = pd.DataFrame({\n",
    "    'Review': X_test,\n",
    "    'Actual_Label': y_test,\n",
    "    'Predicted_Label': y_pred\n",
    "})\n",
    "df_results.to_csv('predictions.csv', index=False)"
   ],
   "id": "226d286133b0b2d3",
   "outputs": [],
   "execution_count": 16
  },
  {
   "metadata": {
    "ExecuteTime": {
     "end_time": "2024-07-12T14:48:25.447812Z",
     "start_time": "2024-07-12T14:48:25.437584Z"
    }
   },
   "cell_type": "code",
   "source": [
    "# Evaluate the model\n",
    "print(f'Accuracy: {accuracy_score(y_test, y_pred)}')\n",
    "print(classification_report(y_test, y_pred))"
   ],
   "id": "81e8b53c3f826493",
   "outputs": [
    {
     "name": "stdout",
     "output_type": "stream",
     "text": [
      "Accuracy: 0.7844311377245509\n",
      "              precision    recall  f1-score   support\n",
      "\n",
      "           0       0.72      0.75      0.74       268\n",
      "           1       0.83      0.81      0.82       400\n",
      "\n",
      "    accuracy                           0.78       668\n",
      "   macro avg       0.78      0.78      0.78       668\n",
      "weighted avg       0.79      0.78      0.78       668\n",
      "\n"
     ]
    }
   ],
   "execution_count": 17
  },
  {
   "metadata": {
    "ExecuteTime": {
     "end_time": "2024-07-12T14:49:10.553900Z",
     "start_time": "2024-07-12T14:49:07.743604Z"
    }
   },
   "cell_type": "code",
   "source": [
    "X_embeddings = np.concatenate((X_train_embeddings, X_test_embeddings), axis=0)\n",
    "y_ = np.concatenate((y_train, y_test), axis=0)\n",
    "\n",
    "skf = StratifiedKFold(n_splits=5)\n",
    "scores = cross_val_score(model, X_embeddings, y_, cv=skf, scoring='accuracy')\n",
    "\n",
    "print(f'Cross-validated accuracy scores: {scores}')\n",
    "print(f'Mean accuracy: {scores.mean()}')"
   ],
   "id": "9eb77cfec3e2d4bd",
   "outputs": [
    {
     "name": "stdout",
     "output_type": "stream",
     "text": [
      "Cross-validated accuracy scores: [0.79341317 0.77994012 0.77245509 0.81437126 0.7826087 ]\n",
      "Mean accuracy: 0.7885576672741473\n"
     ]
    }
   ],
   "execution_count": 18
  },
  {
   "metadata": {
    "ExecuteTime": {
     "end_time": "2024-07-12T14:49:30.548095Z",
     "start_time": "2024-07-12T14:49:30.352661Z"
    }
   },
   "cell_type": "code",
   "source": [
    "# Example text for prediction\n",
    "new_text = '''ঘুরে এলাম পুরান ঢাকার সবচেয়ে কালারফুল rooftop restaurant প্রোফাইল জোন স্মোকিং জোন কাপল জোন প্রাইভেট পার্টি জোন ফুল হল পার্টির জন্য এসি লাউঞ্জ রুফটপ ক্যান্ডেল লাইট পার্টি জোনসবকিছুই এক রেস্টুরেন্টে আপনি পেয়ে যাবেন তাছাড়া দুপুরে আর রাতে পার্টি বুক করলে ১৫% এর মতন ডিসকাউন্ট পাবেন পার্টি ছাড়াও ১২% ডিসকাউন্ট পাবেন যেকোন খাবারে মেম্বারশিপ কার্ডের জন্য the dining lounge এর সবচেয়ে ইউনিক আইটেম ডিপ ডিশ পিজ্জা ( বাংলাদেশের গর্ব ) এখানে এসে এই পিজ্জা না খেলে আপনার জীবনটাই বৃথা হবে এই পিজ্জা বাংলাদেশে তারাই এনেছে প্রথম বউকে নিয়ে তাই খুব সুন্দর সময় কাটালাম কাপল জোনে সাথে ভালো খাওয়া দাওয়া হলো tikka deep dish pizza12\"\" the dining lounge wari 2.5kg8/1 rankin street wari just opposite to shawpno.\"'''\n",
    "\n",
    "# Preprocess the new text\n",
    "new_text_processed = preprocess(new_text)\n",
    "\n",
    "# Convert the new text to FastText embedding\n",
    "new_text_embedding = text_to_embedding(new_text_processed, fasttext_model).reshape(1, -1)\n",
    "\n",
    "# Make a prediction\n",
    "prediction = model.predict(new_text_embedding)\n",
    "\n",
    "# Output the prediction\n",
    "print(f'Prediction: {prediction[0]}')"
   ],
   "id": "5389970f5b5ab275",
   "outputs": [
    {
     "name": "stdout",
     "output_type": "stream",
     "text": [
      "Prediction: 1\n"
     ]
    }
   ],
   "execution_count": 19
  },
  {
   "metadata": {
    "ExecuteTime": {
     "end_time": "2024-07-12T14:51:09.096904Z",
     "start_time": "2024-07-12T14:51:09.088865Z"
    }
   },
   "cell_type": "code",
   "source": [
    "# Save the model using pickle\n",
    "with open('Restaurant_review_model.pkl', 'wb') as f:\n",
    "    pickle.dump(model, f)\n",
    "\n",
    "print(\"Model saved successfully as 'Restaurant_review_model.pkl' using pickle.\")"
   ],
   "id": "84246d56ee62dfe5",
   "outputs": [
    {
     "name": "stdout",
     "output_type": "stream",
     "text": [
      "Model saved successfully as 'Restaurant_review_model.pkl' using pickle.\n"
     ]
    }
   ],
   "execution_count": 22
  },
  {
   "metadata": {},
   "cell_type": "code",
   "outputs": [],
   "execution_count": null,
   "source": "",
   "id": "70c4e5c641abd87"
  }
 ],
 "metadata": {
  "kernelspec": {
   "display_name": "Python 3",
   "language": "python",
   "name": "python3"
  },
  "language_info": {
   "codemirror_mode": {
    "name": "ipython",
    "version": 2
   },
   "file_extension": ".py",
   "mimetype": "text/x-python",
   "name": "python",
   "nbconvert_exporter": "python",
   "pygments_lexer": "ipython2",
   "version": "2.7.6"
  }
 },
 "nbformat": 4,
 "nbformat_minor": 5
}
